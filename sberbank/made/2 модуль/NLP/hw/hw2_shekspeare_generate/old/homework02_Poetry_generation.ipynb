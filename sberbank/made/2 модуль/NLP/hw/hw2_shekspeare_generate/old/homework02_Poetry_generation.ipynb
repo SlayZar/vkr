{
 "cells": [
  {
   "cell_type": "markdown",
   "metadata": {},
   "source": [
    "## Homework №2"
   ]
  },
  {
   "cell_type": "markdown",
   "metadata": {},
   "source": [
    "### Almost Shakespeare\n",
    "\n",
    "Let's try to generate some Shakespeare poetry using RNNs. The sonnets file is available in the notebook directory.\n",
    "\n",
    "Text generation can be designed in several steps:\n",
    "    \n",
    "1. Data loading.\n",
    "2. Dictionary generation.\n",
    "3. Data preprocessing.\n",
    "4. Model (neural network) training.\n",
    "5. Text generation (model evaluation).\n"
   ]
  },
  {
   "cell_type": "markdown",
   "metadata": {},
   "source": [
    "### Data loading"
   ]
  },
  {
   "cell_type": "markdown",
   "metadata": {},
   "source": [
    "Shakespeare sonnets are awailable at this [link](http://www.gutenberg.org/ebooks/1041?msg=welcome_stranger). In addition, they are stored in the same directory as this notebook (`sonnetes.txt`).\n",
    "\n",
    "Simple preprocessing is already done for you in the next cell: all technical info is dropped."
   ]
  },
  {
   "cell_type": "code",
   "execution_count": 1,
   "metadata": {},
   "outputs": [],
   "source": [
    "from IPython.display import clear_output\n",
    "from random import sample\n",
    "import string\n",
    "import numpy as np\n",
    "import torch, torch.nn as nn\n",
    "import torch.nn.functional as F\n",
    "import matplotlib.pyplot as plt\n",
    "%matplotlib inline"
   ]
  },
  {
   "cell_type": "code",
   "execution_count": 2,
   "metadata": {},
   "outputs": [],
   "source": [
    "try:\n",
    "    with open('../../datasets/Shakespeare_sonnets/sonnets.txt', 'r') as iofile:\n",
    "        text = iofile.readlines()\n",
    "except FileNotFoundError:\n",
    "    !wget https://raw.githubusercontent.com/neychev/made_nlp_course/master/datasets/Shakespeare_sonnets/sonnets.txt -nc\n",
    "    with open('sonnets.txt', 'r') as iofile:\n",
    "        text = iofile.readlines()"
   ]
  },
  {
   "cell_type": "code",
   "execution_count": 3,
   "metadata": {},
   "outputs": [],
   "source": [
    "TEXT_START = 45\n",
    "TEXT_END = -368\n",
    "text = text[TEXT_START : TEXT_END]\n",
    "assert len(text) == 2616"
   ]
  },
  {
   "cell_type": "markdown",
   "metadata": {},
   "source": [
    "In opposite to the in-class practice, this time we want to predict complex text. Let's reduce the complexity of the task and lowercase all the symbols.\n",
    "\n",
    "Now variable `text` is a list of strings. Join all the strings into one and lowercase it."
   ]
  },
  {
   "cell_type": "code",
   "execution_count": 4,
   "metadata": {},
   "outputs": [
    {
     "name": "stdout",
     "output_type": "stream",
     "text": [
      "OK!\n"
     ]
    }
   ],
   "source": [
    "# Join all the strings into one and lowercase it\n",
    "# Put result into variable text.\n",
    "\n",
    "# Your great code here\n",
    "text =  ''.join(text).lower()\n",
    "\n",
    "assert len(text) == 100225, 'Are you sure you have concatenated all the strings?'\n",
    "assert not any([x in set(text) for x in string.ascii_uppercase]), 'Uppercase letters are present'\n",
    "print('OK!')"
   ]
  },
  {
   "cell_type": "markdown",
   "metadata": {},
   "source": [
    "Put all the characters, that you've seen in the text, into variable `tokens`."
   ]
  },
  {
   "cell_type": "code",
   "execution_count": 5,
   "metadata": {},
   "outputs": [],
   "source": [
    "tokens = sorted(set(text))"
   ]
  },
  {
   "cell_type": "markdown",
   "metadata": {},
   "source": [
    "Create dictionary `token_to_idx = {<char>: <index>}` and dictionary `idx_to_token = {<index>: <char>}`"
   ]
  },
  {
   "cell_type": "code",
   "execution_count": 6,
   "metadata": {},
   "outputs": [],
   "source": [
    "# dict <index>:<char>\n",
    "# Your great code here\n",
    "token_to_id = {\n",
    "    token: idx for idx, token in enumerate(tokens)\n",
    "}\n",
    "# dict <char>:<index>\n",
    "# Your great code here\n",
    "idx_to_token = {idx: word for word, idx in token_to_id.items()}"
   ]
  },
  {
   "cell_type": "markdown",
   "metadata": {},
   "source": [
    "*Comment: in this task we have only 38 different tokens, so let's use one-hot encoding.*"
   ]
  },
  {
   "cell_type": "code",
   "execution_count": 7,
   "metadata": {},
   "outputs": [
    {
     "data": {
      "text/plain": [
       "38"
      ]
     },
     "execution_count": 7,
     "metadata": {},
     "output_type": "execute_result"
    }
   ],
   "source": [
    "num_tokens = len(tokens)\n",
    "num_tokens"
   ]
  },
  {
   "cell_type": "code",
   "execution_count": 8,
   "metadata": {},
   "outputs": [],
   "source": [
    "encoded = np.array([token_to_id[ch] for ch in text])"
   ]
  },
  {
   "cell_type": "code",
   "execution_count": 9,
   "metadata": {},
   "outputs": [
    {
     "data": {
      "text/plain": [
       "array([ 1,  1, 17, ..., 16,  8,  0])"
      ]
     },
     "execution_count": 9,
     "metadata": {},
     "output_type": "execute_result"
    }
   ],
   "source": [
    "encoded"
   ]
  },
  {
   "cell_type": "markdown",
   "metadata": {},
   "source": [
    "### Building the model"
   ]
  },
  {
   "cell_type": "markdown",
   "metadata": {},
   "source": [
    "Now we want to build and train recurrent neural net which would be able to something similar to Shakespeare's poetry.\n",
    "\n",
    "Let's use vanilla RNN, similar to the one created during the lesson."
   ]
  },
  {
   "cell_type": "code",
   "execution_count": 10,
   "metadata": {},
   "outputs": [],
   "source": [
    "seq_size = 32\n",
    "batch_size = 32\n",
    "rnn_size = num_tokens\n",
    "embedding_size = num_tokens"
   ]
  },
  {
   "cell_type": "code",
   "execution_count": 11,
   "metadata": {},
   "outputs": [],
   "source": [
    "num_batches = int(len(encoded) / (seq_size * batch_size))\n",
    "in_text = encoded[:num_batches * batch_size * seq_size]\n",
    "out_text = np.zeros_like(in_text)\n",
    "out_text[:-1] = in_text[1:]\n",
    "out_text[-1] = in_text[0]\n",
    "in_text = np.reshape(in_text, (batch_size, -1))\n",
    "out_text = np.reshape(out_text, (batch_size, -1))"
   ]
  },
  {
   "cell_type": "code",
   "execution_count": 12,
   "metadata": {},
   "outputs": [
    {
     "data": {
      "text/plain": [
       "array([[ 1,  1, 17, ..., 25, 26, 29],\n",
       "       [ 1, 25, 26, ..., 20, 14, 19],\n",
       "       [ 1, 31, 26, ..., 25, 31, 16],\n",
       "       ...,\n",
       "       [16,  1, 16, ..., 22, 20, 25],\n",
       "       [15, 10,  0, ..., 19, 16, 12],\n",
       "       [33, 16, 25, ..., 16, 36, 16]])"
      ]
     },
     "execution_count": 12,
     "metadata": {},
     "output_type": "execute_result"
    }
   ],
   "source": [
    "in_text"
   ]
  },
  {
   "cell_type": "code",
   "execution_count": 13,
   "metadata": {},
   "outputs": [],
   "source": [
    "def get_batches(in_text, out_text, batch_size, seq_size):\n",
    "    num_batches = np.prod(in_text.shape) // (seq_size * batch_size)\n",
    "    for i in range(0, num_batches * seq_size, seq_size):\n",
    "        yield in_text[:, i:i+seq_size], out_text[:, i:i+seq_size]"
   ]
  },
  {
   "cell_type": "code",
   "execution_count": 14,
   "metadata": {},
   "outputs": [],
   "source": [
    "class RNNModule(nn.Module):\n",
    "    def __init__(self, n_vocab, seq_size, embedding_size, rnn_size):\n",
    "        super(RNNModule, self).__init__()\n",
    "        self.seq_size = seq_size\n",
    "        self.rnn_size = rnn_size\n",
    "        self.embedding = nn.Embedding(n_vocab, embedding_size)\n",
    "        self.rnn = nn.RNN(embedding_size, rnn_size,  batch_first=True)\n",
    "        self.dense = nn.Linear(rnn_size, num_tokens)\n",
    "        \n",
    "    def forward(self, x, prev_state):\n",
    "        embed = self.embedding(x)\n",
    "        output, state = (self.rnn(embed, prev_state))\n",
    "        logits = self.dense(output)\n",
    "        return logits, state        \n",
    "        \n",
    "    def zero_state(self, batch_size):\n",
    "        return (torch.zeros(1, batch_size, self.rnn_size),\n",
    "                torch.zeros(1, batch_size, self.rnn_size))"
   ]
  },
  {
   "cell_type": "code",
   "execution_count": 17,
   "metadata": {},
   "outputs": [],
   "source": [
    "rnn = RNNModule(num_tokens, seq_size, embedding_size, rnn_size)\n",
    "iteration = 0"
   ]
  },
  {
   "cell_type": "code",
   "execution_count": 18,
   "metadata": {},
   "outputs": [],
   "source": [
    "criterion = nn.CrossEntropyLoss()\n",
    "optimizer = torch.optim.Adam(rnn.parameters(), lr=0.01)"
   ]
  },
  {
   "cell_type": "code",
   "execution_count": 20,
   "metadata": {
    "scrolled": true
   },
   "outputs": [
    {
     "name": "stdout",
     "output_type": "stream",
     "text": [
      "Epoch: 0/200 Iteration: 0 Loss: 3.6473960876464844\n",
      "Epoch: 1/200 Iteration: 100 Loss: 2.0516281127929688\n",
      "Epoch: 2/200 Iteration: 200 Loss: 1.8408257961273193\n",
      "Epoch: 3/200 Iteration: 300 Loss: 1.8268786668777466\n",
      "Epoch: 4/200 Iteration: 400 Loss: 1.8289058208465576\n",
      "Epoch: 5/200 Iteration: 500 Loss: 1.764262080192566\n",
      "Epoch: 6/200 Iteration: 600 Loss: 1.7065975666046143\n",
      "Epoch: 7/200 Iteration: 700 Loss: 1.7670657634735107\n",
      "Epoch: 8/200 Iteration: 800 Loss: 1.7060751914978027\n",
      "Epoch: 9/200 Iteration: 900 Loss: 1.6568818092346191\n",
      "Epoch: 10/200 Iteration: 1000 Loss: 1.7554211616516113\n",
      "Epoch: 11/200 Iteration: 1100 Loss: 1.756462574005127\n",
      "Epoch: 12/200 Iteration: 1200 Loss: 1.717341423034668\n",
      "Epoch: 13/200 Iteration: 1300 Loss: 1.6512439250946045\n",
      "Epoch: 14/200 Iteration: 1400 Loss: 1.758185863494873\n",
      "Epoch: 15/200 Iteration: 1500 Loss: 1.6951009035110474\n",
      "Epoch: 16/200 Iteration: 1600 Loss: 1.7275354862213135\n",
      "Epoch: 17/200 Iteration: 1700 Loss: 1.6353915929794312\n",
      "Epoch: 18/200 Iteration: 1800 Loss: 1.6391148567199707\n",
      "Epoch: 19/200 Iteration: 1900 Loss: 1.7069203853607178\n",
      "Epoch: 20/200 Iteration: 2000 Loss: 1.616227388381958\n",
      "Epoch: 21/200 Iteration: 2100 Loss: 1.6678283214569092\n",
      "Epoch: 22/200 Iteration: 2200 Loss: 1.6631661653518677\n",
      "Epoch: 23/200 Iteration: 2300 Loss: 1.738329291343689\n",
      "Epoch: 24/200 Iteration: 2400 Loss: 1.7789093255996704\n",
      "Epoch: 25/200 Iteration: 2500 Loss: 1.710249662399292\n",
      "Epoch: 26/200 Iteration: 2600 Loss: 1.713913917541504\n",
      "Epoch: 27/200 Iteration: 2700 Loss: 1.555381178855896\n",
      "Epoch: 28/200 Iteration: 2800 Loss: 1.664631962776184\n",
      "Epoch: 29/200 Iteration: 2900 Loss: 1.6632351875305176\n",
      "Epoch: 30/200 Iteration: 3000 Loss: 1.7151997089385986\n",
      "Epoch: 31/200 Iteration: 3100 Loss: 1.661540150642395\n",
      "Epoch: 32/200 Iteration: 3200 Loss: 1.739759087562561\n",
      "Epoch: 34/200 Iteration: 3300 Loss: 1.5785741806030273\n",
      "Epoch: 35/200 Iteration: 3400 Loss: 1.6832040548324585\n",
      "Epoch: 36/200 Iteration: 3500 Loss: 1.7516944408416748\n",
      "Epoch: 37/200 Iteration: 3600 Loss: 1.6523983478546143\n",
      "Epoch: 38/200 Iteration: 3700 Loss: 1.6945124864578247\n",
      "Epoch: 39/200 Iteration: 3800 Loss: 1.7061454057693481\n",
      "Epoch: 40/200 Iteration: 3900 Loss: 1.6786420345306396\n",
      "Epoch: 41/200 Iteration: 4000 Loss: 1.6170796155929565\n",
      "Epoch: 42/200 Iteration: 4100 Loss: 1.687934160232544\n",
      "Epoch: 43/200 Iteration: 4200 Loss: 1.6044059991836548\n",
      "Epoch: 44/200 Iteration: 4300 Loss: 1.6542274951934814\n",
      "Epoch: 45/200 Iteration: 4400 Loss: 1.7078083753585815\n",
      "Epoch: 46/200 Iteration: 4500 Loss: 1.5895501375198364\n",
      "Epoch: 47/200 Iteration: 4600 Loss: 1.6419883966445923\n",
      "Epoch: 48/200 Iteration: 4700 Loss: 1.664550542831421\n",
      "Epoch: 49/200 Iteration: 4800 Loss: 1.6421051025390625\n",
      "Epoch: 50/200 Iteration: 4900 Loss: 1.6469250917434692\n",
      "Epoch: 51/200 Iteration: 5000 Loss: 1.6432024240493774\n",
      "Epoch: 52/200 Iteration: 5100 Loss: 1.6157987117767334\n",
      "Epoch: 53/200 Iteration: 5200 Loss: 1.6808258295059204\n",
      "Epoch: 54/200 Iteration: 5300 Loss: 1.6666221618652344\n",
      "Epoch: 55/200 Iteration: 5400 Loss: 1.6291230916976929\n",
      "Epoch: 56/200 Iteration: 5500 Loss: 1.7076966762542725\n",
      "Epoch: 57/200 Iteration: 5600 Loss: 1.739437460899353\n",
      "Epoch: 58/200 Iteration: 5700 Loss: 1.6715072393417358\n",
      "Epoch: 59/200 Iteration: 5800 Loss: 1.6193231344223022\n",
      "Epoch: 60/200 Iteration: 5900 Loss: 1.6714653968811035\n",
      "Epoch: 61/200 Iteration: 6000 Loss: 1.7104556560516357\n",
      "Epoch: 62/200 Iteration: 6100 Loss: 1.6786532402038574\n",
      "Epoch: 63/200 Iteration: 6200 Loss: 1.6954209804534912\n",
      "Epoch: 64/200 Iteration: 6300 Loss: 1.736293077468872\n",
      "Epoch: 65/200 Iteration: 6400 Loss: 1.714172601699829\n",
      "Epoch: 67/200 Iteration: 6500 Loss: 1.6663755178451538\n",
      "Epoch: 68/200 Iteration: 6600 Loss: 1.6854422092437744\n",
      "Epoch: 69/200 Iteration: 6700 Loss: 1.6713531017303467\n",
      "Epoch: 70/200 Iteration: 6800 Loss: 1.6877833604812622\n",
      "Epoch: 71/200 Iteration: 6900 Loss: 1.603050708770752\n",
      "Epoch: 72/200 Iteration: 7000 Loss: 1.6646054983139038\n",
      "Epoch: 73/200 Iteration: 7100 Loss: 1.6188119649887085\n",
      "Epoch: 74/200 Iteration: 7200 Loss: 1.645032525062561\n",
      "Epoch: 75/200 Iteration: 7300 Loss: 1.6950173377990723\n",
      "Epoch: 76/200 Iteration: 7400 Loss: 1.6877497434616089\n",
      "Epoch: 77/200 Iteration: 7500 Loss: 1.613840103149414\n",
      "Epoch: 78/200 Iteration: 7600 Loss: 1.7169796228408813\n",
      "Epoch: 79/200 Iteration: 7700 Loss: 1.6522791385650635\n",
      "Epoch: 80/200 Iteration: 7800 Loss: 1.6900862455368042\n",
      "Epoch: 81/200 Iteration: 7900 Loss: 1.6154835224151611\n",
      "Epoch: 82/200 Iteration: 8000 Loss: 1.6581631898880005\n",
      "Epoch: 83/200 Iteration: 8100 Loss: 1.6626884937286377\n",
      "Epoch: 84/200 Iteration: 8200 Loss: 1.6428033113479614\n",
      "Epoch: 85/200 Iteration: 8300 Loss: 1.621601939201355\n",
      "Epoch: 86/200 Iteration: 8400 Loss: 1.62584388256073\n",
      "Epoch: 87/200 Iteration: 8500 Loss: 1.648520827293396\n",
      "Epoch: 88/200 Iteration: 8600 Loss: 1.6265822649002075\n",
      "Epoch: 89/200 Iteration: 8700 Loss: 1.7066010236740112\n",
      "Epoch: 90/200 Iteration: 8800 Loss: 1.7294858694076538\n",
      "Epoch: 91/200 Iteration: 8900 Loss: 1.6314243078231812\n",
      "Epoch: 92/200 Iteration: 9000 Loss: 1.7029591798782349\n",
      "Epoch: 93/200 Iteration: 9100 Loss: 1.7281874418258667\n",
      "Epoch: 94/200 Iteration: 9200 Loss: 1.7245043516159058\n",
      "Epoch: 95/200 Iteration: 9300 Loss: 1.648281216621399\n",
      "Epoch: 96/200 Iteration: 9400 Loss: 1.6669400930404663\n",
      "Epoch: 97/200 Iteration: 9500 Loss: 1.7200363874435425\n",
      "Epoch: 98/200 Iteration: 9600 Loss: 1.682645559310913\n",
      "Epoch: 100/200 Iteration: 9700 Loss: 1.73944890499115\n",
      "Epoch: 101/200 Iteration: 9800 Loss: 1.6848872900009155\n",
      "Epoch: 102/200 Iteration: 9900 Loss: 1.6433273553848267\n",
      "Epoch: 103/200 Iteration: 10000 Loss: 1.6522891521453857\n",
      "Epoch: 104/200 Iteration: 10100 Loss: 1.6707297563552856\n",
      "Epoch: 105/200 Iteration: 10200 Loss: 1.665846824645996\n",
      "Epoch: 106/200 Iteration: 10300 Loss: 1.5941479206085205\n",
      "Epoch: 107/200 Iteration: 10400 Loss: 1.6893924474716187\n",
      "Epoch: 108/200 Iteration: 10500 Loss: 1.5947723388671875\n",
      "Epoch: 109/200 Iteration: 10600 Loss: 1.6127492189407349\n",
      "Epoch: 110/200 Iteration: 10700 Loss: 1.7204158306121826\n",
      "Epoch: 111/200 Iteration: 10800 Loss: 1.7047410011291504\n",
      "Epoch: 112/200 Iteration: 10900 Loss: 1.673248529434204\n",
      "Epoch: 113/200 Iteration: 11000 Loss: 1.6210110187530518\n",
      "Epoch: 114/200 Iteration: 11100 Loss: 1.727798342704773\n",
      "Epoch: 115/200 Iteration: 11200 Loss: 1.6560643911361694\n",
      "Epoch: 116/200 Iteration: 11300 Loss: 1.7050896883010864\n",
      "Epoch: 117/200 Iteration: 11400 Loss: 1.6229628324508667\n",
      "Epoch: 118/200 Iteration: 11500 Loss: 1.6053293943405151\n",
      "Epoch: 119/200 Iteration: 11600 Loss: 1.7068651914596558\n",
      "Epoch: 120/200 Iteration: 11700 Loss: 1.609018087387085\n",
      "Epoch: 121/200 Iteration: 11800 Loss: 1.6523981094360352\n",
      "Epoch: 122/200 Iteration: 11900 Loss: 1.6406779289245605\n",
      "Epoch: 123/200 Iteration: 12000 Loss: 1.7842812538146973\n",
      "Epoch: 124/200 Iteration: 12100 Loss: 1.795975923538208\n",
      "Epoch: 125/200 Iteration: 12200 Loss: 1.7130604982376099\n",
      "Epoch: 126/200 Iteration: 12300 Loss: 1.7107115983963013\n",
      "Epoch: 127/200 Iteration: 12400 Loss: 1.5433523654937744\n",
      "Epoch: 128/200 Iteration: 12500 Loss: 1.705533742904663\n",
      "Epoch: 129/200 Iteration: 12600 Loss: 1.6790825128555298\n",
      "Epoch: 130/200 Iteration: 12700 Loss: 1.7335952520370483\n",
      "Epoch: 131/200 Iteration: 12800 Loss: 1.662571668624878\n",
      "Epoch: 132/200 Iteration: 12900 Loss: 1.7434483766555786\n",
      "Epoch: 134/200 Iteration: 13000 Loss: 1.5994175672531128\n",
      "Epoch: 135/200 Iteration: 13100 Loss: 1.7281386852264404\n",
      "Epoch: 136/200 Iteration: 13200 Loss: 1.7793534994125366\n",
      "Epoch: 137/200 Iteration: 13300 Loss: 1.642805814743042\n",
      "Epoch: 138/200 Iteration: 13400 Loss: 1.7243484258651733\n",
      "Epoch: 139/200 Iteration: 13500 Loss: 1.7196911573410034\n",
      "Epoch: 140/200 Iteration: 13600 Loss: 1.7083951234817505\n",
      "Epoch: 141/200 Iteration: 13700 Loss: 1.638969898223877\n",
      "Epoch: 142/200 Iteration: 13800 Loss: 1.682492733001709\n",
      "Epoch: 143/200 Iteration: 13900 Loss: 1.6184200048446655\n",
      "Epoch: 144/200 Iteration: 14000 Loss: 1.6685948371887207\n",
      "Epoch: 145/200 Iteration: 14100 Loss: 1.7242103815078735\n",
      "Epoch: 146/200 Iteration: 14200 Loss: 1.609191656112671\n",
      "Epoch: 147/200 Iteration: 14300 Loss: 1.6567625999450684\n",
      "Epoch: 148/200 Iteration: 14400 Loss: 1.6756123304367065\n",
      "Epoch: 149/200 Iteration: 14500 Loss: 1.6434425115585327\n",
      "Epoch: 150/200 Iteration: 14600 Loss: 1.6716901063919067\n",
      "Epoch: 151/200 Iteration: 14700 Loss: 1.6620980501174927\n"
     ]
    },
    {
     "name": "stdout",
     "output_type": "stream",
     "text": [
      "Epoch: 152/200 Iteration: 14800 Loss: 1.6370313167572021\n",
      "Epoch: 153/200 Iteration: 14900 Loss: 1.6931369304656982\n",
      "Epoch: 154/200 Iteration: 15000 Loss: 1.678329348564148\n",
      "Epoch: 155/200 Iteration: 15100 Loss: 1.643912672996521\n",
      "Epoch: 156/200 Iteration: 15200 Loss: 1.7142940759658813\n",
      "Epoch: 157/200 Iteration: 15300 Loss: 1.7681509256362915\n",
      "Epoch: 158/200 Iteration: 15400 Loss: 1.723219633102417\n",
      "Epoch: 159/200 Iteration: 15500 Loss: 1.6144464015960693\n",
      "Epoch: 160/200 Iteration: 15600 Loss: 1.672873854637146\n",
      "Epoch: 161/200 Iteration: 15700 Loss: 1.7072937488555908\n",
      "Epoch: 162/200 Iteration: 15800 Loss: 1.6897852420806885\n",
      "Epoch: 163/200 Iteration: 15900 Loss: 1.6820640563964844\n",
      "Epoch: 164/200 Iteration: 16000 Loss: 1.7403379678726196\n",
      "Epoch: 165/200 Iteration: 16100 Loss: 1.7060902118682861\n",
      "Epoch: 167/200 Iteration: 16200 Loss: 1.6704965829849243\n",
      "Epoch: 168/200 Iteration: 16300 Loss: 1.690456748008728\n",
      "Epoch: 169/200 Iteration: 16400 Loss: 1.6521977186203003\n",
      "Epoch: 170/200 Iteration: 16500 Loss: 1.6928739547729492\n",
      "Epoch: 171/200 Iteration: 16600 Loss: 1.6375818252563477\n",
      "Epoch: 172/200 Iteration: 16700 Loss: 1.660718560218811\n",
      "Epoch: 173/200 Iteration: 16800 Loss: 1.6351858377456665\n",
      "Epoch: 174/200 Iteration: 16900 Loss: 1.6685367822647095\n",
      "Epoch: 175/200 Iteration: 17000 Loss: 1.66535484790802\n",
      "Epoch: 176/200 Iteration: 17100 Loss: 1.6976393461227417\n",
      "Epoch: 177/200 Iteration: 17200 Loss: 1.627450942993164\n",
      "Epoch: 178/200 Iteration: 17300 Loss: 1.7382380962371826\n",
      "Epoch: 179/200 Iteration: 17400 Loss: 1.649066686630249\n",
      "Epoch: 180/200 Iteration: 17500 Loss: 1.689672827720642\n",
      "Epoch: 181/200 Iteration: 17600 Loss: 1.6337803602218628\n",
      "Epoch: 182/200 Iteration: 17700 Loss: 1.6859585046768188\n",
      "Epoch: 183/200 Iteration: 17800 Loss: 1.7018195390701294\n",
      "Epoch: 184/200 Iteration: 17900 Loss: 1.6571792364120483\n",
      "Epoch: 185/200 Iteration: 18000 Loss: 1.6017858982086182\n",
      "Epoch: 186/200 Iteration: 18100 Loss: 1.657180905342102\n",
      "Epoch: 187/200 Iteration: 18200 Loss: 1.705773949623108\n",
      "Epoch: 188/200 Iteration: 18300 Loss: 1.6305770874023438\n",
      "Epoch: 189/200 Iteration: 18400 Loss: 1.7412316799163818\n",
      "Epoch: 190/200 Iteration: 18500 Loss: 1.7469313144683838\n",
      "Epoch: 191/200 Iteration: 18600 Loss: 1.6852452754974365\n",
      "Epoch: 192/200 Iteration: 18700 Loss: 1.7198894023895264\n",
      "Epoch: 193/200 Iteration: 18800 Loss: 1.7018623352050781\n",
      "Epoch: 194/200 Iteration: 18900 Loss: 1.7198649644851685\n",
      "Epoch: 195/200 Iteration: 19000 Loss: 1.6800618171691895\n",
      "Epoch: 196/200 Iteration: 19100 Loss: 1.66620934009552\n",
      "Epoch: 197/200 Iteration: 19200 Loss: 1.6780877113342285\n",
      "Epoch: 198/200 Iteration: 19300 Loss: 1.7192145586013794\n"
     ]
    }
   ],
   "source": [
    "epoch_loss = []\n",
    "best_loss = np.inf\n",
    "for epoch in range(200):\n",
    "    batches = get_batches(in_text, out_text, batch_size, seq_size)\n",
    "    state_h, _ = rnn.zero_state(batch_size)\n",
    "\n",
    "    for x, y in batches:\n",
    "        rnn.train()\n",
    "        optimizer.zero_grad()\n",
    "\n",
    "        x = torch.tensor(x).to(torch.int64)\n",
    "        y = torch.tensor(y).to(torch.int64)\n",
    "\n",
    "        logits, state_h = rnn(x, state_h)\n",
    "        loss = criterion(logits.transpose(1, 2), y)\n",
    "\n",
    "        state_h = state_h.detach()\n",
    "\n",
    "        loss_value = loss.item()\n",
    "        loss.backward()\n",
    "\n",
    "        _ = torch.nn.utils.clip_grad_norm_(\n",
    "            rnn.parameters(), 5)\n",
    "\n",
    "        optimizer.step()\n",
    "        if iteration % 100 == 0:\n",
    "            print('Epoch: {}/{}'.format(epoch, 200),\n",
    "                      'Iteration: {}'.format(iteration),\n",
    "                      'Loss: {}'.format(loss_value))\n",
    "\n",
    "        iteration += 1\n",
    "\n",
    "    if loss_value < best_loss:\n",
    "        torch.save(rnn.state_dict(), 'checkpoint_pt/model-rnn.pth')\n",
    "            \n",
    "    epoch_loss.append(loss_value)"
   ]
  },
  {
   "cell_type": "code",
   "execution_count": 140,
   "metadata": {},
   "outputs": [
    {
     "name": "stdout",
     "output_type": "stream",
     "text": [
      "Epoch: 0/200 Iteration: 0 Loss: 3.7740490436553955\n",
      "Epoch: 1/200 Iteration: 100 Loss: 2.0620903968811035\n",
      "Epoch: 2/200 Iteration: 200 Loss: 1.8678735494613647\n",
      "Epoch: 3/200 Iteration: 300 Loss: 1.8404120206832886\n",
      "Epoch: 4/200 Iteration: 400 Loss: 1.8206110000610352\n",
      "Epoch: 5/200 Iteration: 500 Loss: 1.7592219114303589\n",
      "Epoch: 6/200 Iteration: 600 Loss: 1.6909359693527222\n",
      "Epoch: 7/200 Iteration: 700 Loss: 1.7544842958450317\n",
      "Epoch: 8/200 Iteration: 800 Loss: 1.7142771482467651\n",
      "Epoch: 9/200 Iteration: 900 Loss: 1.6641768217086792\n",
      "Epoch: 10/200 Iteration: 1000 Loss: 1.7646279335021973\n",
      "Epoch: 11/200 Iteration: 1100 Loss: 1.724870204925537\n",
      "Epoch: 12/200 Iteration: 1200 Loss: 1.7074272632598877\n",
      "Epoch: 13/200 Iteration: 1300 Loss: 1.6833997964859009\n",
      "Epoch: 14/200 Iteration: 1400 Loss: 1.7776672840118408\n",
      "Epoch: 15/200 Iteration: 1500 Loss: 1.6979875564575195\n",
      "Epoch: 16/200 Iteration: 1600 Loss: 1.7545955181121826\n",
      "Epoch: 17/200 Iteration: 1700 Loss: 1.6662659645080566\n",
      "Epoch: 18/200 Iteration: 1800 Loss: 1.6399654150009155\n",
      "Epoch: 19/200 Iteration: 1900 Loss: 1.7123558521270752\n",
      "Epoch: 20/200 Iteration: 2000 Loss: 1.6481772661209106\n",
      "Epoch: 21/200 Iteration: 2100 Loss: 1.6926066875457764\n",
      "Epoch: 22/200 Iteration: 2200 Loss: 1.691017508506775\n",
      "Epoch: 23/200 Iteration: 2300 Loss: 1.73806893825531\n",
      "Epoch: 24/200 Iteration: 2400 Loss: 1.7638356685638428\n",
      "Epoch: 25/200 Iteration: 2500 Loss: 1.7107200622558594\n",
      "Epoch: 26/200 Iteration: 2600 Loss: 1.7011451721191406\n",
      "Epoch: 27/200 Iteration: 2700 Loss: 1.5658297538757324\n",
      "Epoch: 28/200 Iteration: 2800 Loss: 1.7012732028961182\n",
      "Epoch: 29/200 Iteration: 2900 Loss: 1.6675770282745361\n",
      "Epoch: 30/200 Iteration: 3000 Loss: 1.7411874532699585\n",
      "Epoch: 31/200 Iteration: 3100 Loss: 1.6533174514770508\n",
      "Epoch: 32/200 Iteration: 3200 Loss: 1.719123125076294\n",
      "Epoch: 34/200 Iteration: 3300 Loss: 1.5682915449142456\n",
      "Epoch: 35/200 Iteration: 3400 Loss: 1.7242604494094849\n",
      "Epoch: 36/200 Iteration: 3500 Loss: 1.7077590227127075\n",
      "Epoch: 37/200 Iteration: 3600 Loss: 1.66739022731781\n",
      "Epoch: 38/200 Iteration: 3700 Loss: 1.6773990392684937\n",
      "Epoch: 39/200 Iteration: 3800 Loss: 1.6916424036026\n",
      "Epoch: 40/200 Iteration: 3900 Loss: 1.7311782836914062\n",
      "Epoch: 41/200 Iteration: 4000 Loss: 1.6090973615646362\n",
      "Epoch: 42/200 Iteration: 4100 Loss: 1.7165381908416748\n",
      "Epoch: 43/200 Iteration: 4200 Loss: 1.6070623397827148\n",
      "Epoch: 44/200 Iteration: 4300 Loss: 1.689464807510376\n",
      "Epoch: 45/200 Iteration: 4400 Loss: 1.7216854095458984\n",
      "Epoch: 46/200 Iteration: 4500 Loss: 1.6210870742797852\n",
      "Epoch: 47/200 Iteration: 4600 Loss: 1.6575815677642822\n",
      "Epoch: 48/200 Iteration: 4700 Loss: 1.6770243644714355\n",
      "Epoch: 49/200 Iteration: 4800 Loss: 1.642917513847351\n",
      "Epoch: 50/200 Iteration: 4900 Loss: 1.6796565055847168\n",
      "Epoch: 51/200 Iteration: 5000 Loss: 1.6205859184265137\n",
      "Epoch: 52/200 Iteration: 5100 Loss: 1.6199018955230713\n",
      "Epoch: 53/200 Iteration: 5200 Loss: 1.6747844219207764\n",
      "Epoch: 54/200 Iteration: 5300 Loss: 1.683341383934021\n",
      "Epoch: 55/200 Iteration: 5400 Loss: 1.6771070957183838\n",
      "Epoch: 56/200 Iteration: 5500 Loss: 1.6888513565063477\n",
      "Epoch: 57/200 Iteration: 5600 Loss: 1.7733923196792603\n",
      "Epoch: 58/200 Iteration: 5700 Loss: 1.6868408918380737\n",
      "Epoch: 59/200 Iteration: 5800 Loss: 1.616228699684143\n",
      "Epoch: 60/200 Iteration: 5900 Loss: 1.7021070718765259\n",
      "Epoch: 61/200 Iteration: 6000 Loss: 1.7301534414291382\n",
      "Epoch: 62/200 Iteration: 6100 Loss: 1.6865313053131104\n",
      "Epoch: 63/200 Iteration: 6200 Loss: 1.6842206716537476\n",
      "Epoch: 64/200 Iteration: 6300 Loss: 1.712712287902832\n",
      "Epoch: 65/200 Iteration: 6400 Loss: 1.7040176391601562\n",
      "Epoch: 67/200 Iteration: 6500 Loss: 1.6518744230270386\n",
      "Epoch: 68/200 Iteration: 6600 Loss: 1.7014473676681519\n",
      "Epoch: 69/200 Iteration: 6700 Loss: 1.6275238990783691\n",
      "Epoch: 70/200 Iteration: 6800 Loss: 1.6682329177856445\n",
      "Epoch: 71/200 Iteration: 6900 Loss: 1.627756118774414\n",
      "Epoch: 72/200 Iteration: 7000 Loss: 1.666520595550537\n",
      "Epoch: 73/200 Iteration: 7100 Loss: 1.592932105064392\n",
      "Epoch: 74/200 Iteration: 7200 Loss: 1.6651756763458252\n",
      "Epoch: 75/200 Iteration: 7300 Loss: 1.660804271697998\n",
      "Epoch: 76/200 Iteration: 7400 Loss: 1.6844183206558228\n",
      "Epoch: 77/200 Iteration: 7500 Loss: 1.7049897909164429\n",
      "Epoch: 78/200 Iteration: 7600 Loss: 1.6972439289093018\n",
      "Epoch: 79/200 Iteration: 7700 Loss: 1.6625423431396484\n",
      "Epoch: 80/200 Iteration: 7800 Loss: 1.6852834224700928\n",
      "Epoch: 81/200 Iteration: 7900 Loss: 1.6056777238845825\n",
      "Epoch: 82/200 Iteration: 8000 Loss: 1.6633161306381226\n",
      "Epoch: 83/200 Iteration: 8100 Loss: 1.6892354488372803\n",
      "Epoch: 84/200 Iteration: 8200 Loss: 1.636696219444275\n",
      "Epoch: 85/200 Iteration: 8300 Loss: 1.6142299175262451\n",
      "Epoch: 86/200 Iteration: 8400 Loss: 1.6383461952209473\n",
      "Epoch: 87/200 Iteration: 8500 Loss: 1.6713756322860718\n",
      "Epoch: 88/200 Iteration: 8600 Loss: 1.6523360013961792\n",
      "Epoch: 89/200 Iteration: 8700 Loss: 1.688388705253601\n",
      "Epoch: 90/200 Iteration: 8800 Loss: 1.7539726495742798\n",
      "Epoch: 91/200 Iteration: 8900 Loss: 1.646309733390808\n",
      "Epoch: 92/200 Iteration: 9000 Loss: 1.718522310256958\n",
      "Epoch: 93/200 Iteration: 9100 Loss: 1.729134202003479\n",
      "Epoch: 94/200 Iteration: 9200 Loss: 1.7588286399841309\n",
      "Epoch: 95/200 Iteration: 9300 Loss: 1.6777808666229248\n",
      "Epoch: 96/200 Iteration: 9400 Loss: 1.6765902042388916\n",
      "Epoch: 97/200 Iteration: 9500 Loss: 1.6760640144348145\n",
      "Epoch: 98/200 Iteration: 9600 Loss: 1.6733101606369019\n",
      "Epoch: 100/200 Iteration: 9700 Loss: 1.7757129669189453\n",
      "Epoch: 101/200 Iteration: 9800 Loss: 1.670642375946045\n",
      "Epoch: 102/200 Iteration: 9900 Loss: 1.638419508934021\n",
      "Epoch: 103/200 Iteration: 10000 Loss: 1.6648153066635132\n",
      "Epoch: 104/200 Iteration: 10100 Loss: 1.7019014358520508\n",
      "Epoch: 105/200 Iteration: 10200 Loss: 1.6528599262237549\n",
      "Epoch: 106/200 Iteration: 10300 Loss: 1.6255781650543213\n",
      "Epoch: 107/200 Iteration: 10400 Loss: 1.7040178775787354\n",
      "Epoch: 108/200 Iteration: 10500 Loss: 1.671653151512146\n",
      "Epoch: 109/200 Iteration: 10600 Loss: 1.6394670009613037\n",
      "Epoch: 110/200 Iteration: 10700 Loss: 1.774000883102417\n",
      "Epoch: 111/200 Iteration: 10800 Loss: 1.6842889785766602\n",
      "Epoch: 112/200 Iteration: 10900 Loss: 1.7028858661651611\n",
      "Epoch: 113/200 Iteration: 11000 Loss: 1.6326370239257812\n",
      "Epoch: 114/200 Iteration: 11100 Loss: 1.731207013130188\n",
      "Epoch: 115/200 Iteration: 11200 Loss: 1.6856131553649902\n",
      "Epoch: 116/200 Iteration: 11300 Loss: 1.7663875818252563\n",
      "Epoch: 117/200 Iteration: 11400 Loss: 1.6934031248092651\n",
      "Epoch: 118/200 Iteration: 11500 Loss: 1.639835238456726\n",
      "Epoch: 119/200 Iteration: 11600 Loss: 1.6979343891143799\n",
      "Epoch: 120/200 Iteration: 11700 Loss: 1.6382349729537964\n",
      "Epoch: 121/200 Iteration: 11800 Loss: 1.6876217126846313\n",
      "Epoch: 122/200 Iteration: 11900 Loss: 1.682450771331787\n",
      "Epoch: 123/200 Iteration: 12000 Loss: 1.7096202373504639\n",
      "Epoch: 124/200 Iteration: 12100 Loss: 1.7726486921310425\n",
      "Epoch: 125/200 Iteration: 12200 Loss: 1.7083008289337158\n",
      "Epoch: 126/200 Iteration: 12300 Loss: 1.7019249200820923\n",
      "Epoch: 127/200 Iteration: 12400 Loss: 1.5713030099868774\n",
      "Epoch: 128/200 Iteration: 12500 Loss: 1.7006733417510986\n",
      "Epoch: 129/200 Iteration: 12600 Loss: 1.6872869729995728\n",
      "Epoch: 130/200 Iteration: 12700 Loss: 1.7518905401229858\n",
      "Epoch: 131/200 Iteration: 12800 Loss: 1.682142972946167\n",
      "Epoch: 132/200 Iteration: 12900 Loss: 1.721700668334961\n",
      "Epoch: 134/200 Iteration: 13000 Loss: 1.588639497756958\n",
      "Epoch: 135/200 Iteration: 13100 Loss: 1.7219126224517822\n",
      "Epoch: 136/200 Iteration: 13200 Loss: 1.7393840551376343\n",
      "Epoch: 137/200 Iteration: 13300 Loss: 1.6605180501937866\n",
      "Epoch: 138/200 Iteration: 13400 Loss: 1.671722412109375\n",
      "Epoch: 139/200 Iteration: 13500 Loss: 1.678300380706787\n",
      "Epoch: 140/200 Iteration: 13600 Loss: 1.713687539100647\n",
      "Epoch: 141/200 Iteration: 13700 Loss: 1.6162556409835815\n",
      "Epoch: 142/200 Iteration: 13800 Loss: 1.711147427558899\n",
      "Epoch: 143/200 Iteration: 13900 Loss: 1.6284573078155518\n",
      "Epoch: 144/200 Iteration: 14000 Loss: 1.7039203643798828\n",
      "Epoch: 145/200 Iteration: 14100 Loss: 1.7298271656036377\n",
      "Epoch: 146/200 Iteration: 14200 Loss: 1.620229721069336\n",
      "Epoch: 147/200 Iteration: 14300 Loss: 1.6954339742660522\n",
      "Epoch: 148/200 Iteration: 14400 Loss: 1.715515375137329\n",
      "Epoch: 149/200 Iteration: 14500 Loss: 1.6642721891403198\n",
      "Epoch: 150/200 Iteration: 14600 Loss: 1.7115108966827393\n",
      "Epoch: 151/200 Iteration: 14700 Loss: 1.6239296197891235\n",
      "Epoch: 152/200 Iteration: 14800 Loss: 1.6402058601379395\n",
      "Epoch: 153/200 Iteration: 14900 Loss: 1.6803746223449707\n",
      "Epoch: 154/200 Iteration: 15000 Loss: 1.6738862991333008\n",
      "Epoch: 155/200 Iteration: 15100 Loss: 1.6439440250396729\n",
      "Epoch: 156/200 Iteration: 15200 Loss: 1.692845106124878\n",
      "Epoch: 157/200 Iteration: 15300 Loss: 1.76125168800354\n",
      "Epoch: 158/200 Iteration: 15400 Loss: 1.719001293182373\n",
      "Epoch: 159/200 Iteration: 15500 Loss: 1.6331781148910522\n",
      "Epoch: 160/200 Iteration: 15600 Loss: 1.6756305694580078\n",
      "Epoch: 161/200 Iteration: 15700 Loss: 1.725024700164795\n",
      "Epoch: 162/200 Iteration: 15800 Loss: 1.724403738975525\n",
      "Epoch: 163/200 Iteration: 15900 Loss: 1.7030506134033203\n",
      "Epoch: 164/200 Iteration: 16000 Loss: 1.7363700866699219\n",
      "Epoch: 165/200 Iteration: 16100 Loss: 1.697145700454712\n",
      "Epoch: 167/200 Iteration: 16200 Loss: 1.6615123748779297\n",
      "Epoch: 168/200 Iteration: 16300 Loss: 1.6976107358932495\n",
      "Epoch: 169/200 Iteration: 16400 Loss: 1.653008222579956\n",
      "Epoch: 170/200 Iteration: 16500 Loss: 1.6911195516586304\n",
      "Epoch: 171/200 Iteration: 16600 Loss: 1.615195870399475\n",
      "Epoch: 172/200 Iteration: 16700 Loss: 1.6632555723190308\n",
      "Epoch: 173/200 Iteration: 16800 Loss: 1.5887668132781982\n",
      "Epoch: 174/200 Iteration: 16900 Loss: 1.693861722946167\n",
      "Epoch: 175/200 Iteration: 17000 Loss: 1.674362301826477\n",
      "Epoch: 176/200 Iteration: 17100 Loss: 1.7705256938934326\n",
      "Epoch: 177/200 Iteration: 17200 Loss: 1.7134865522384644\n",
      "Epoch: 178/200 Iteration: 17300 Loss: 1.7579034566879272\n",
      "Epoch: 179/200 Iteration: 17400 Loss: 1.6853384971618652\n",
      "Epoch: 180/200 Iteration: 17500 Loss: 1.7028660774230957\n",
      "Epoch: 181/200 Iteration: 17600 Loss: 1.6279056072235107\n",
      "Epoch: 182/200 Iteration: 17700 Loss: 1.6369138956069946\n",
      "Epoch: 183/200 Iteration: 17800 Loss: 1.6856838464736938\n",
      "Epoch: 184/200 Iteration: 17900 Loss: 1.6290197372436523\n",
      "Epoch: 185/200 Iteration: 18000 Loss: 1.650618076324463\n",
      "Epoch: 186/200 Iteration: 18100 Loss: 1.6603164672851562\n",
      "Epoch: 187/200 Iteration: 18200 Loss: 1.6739013195037842\n",
      "Epoch: 188/200 Iteration: 18300 Loss: 1.641904354095459\n",
      "Epoch: 189/200 Iteration: 18400 Loss: 1.7138769626617432\n",
      "Epoch: 190/200 Iteration: 18500 Loss: 1.7382484674453735\n",
      "Epoch: 191/200 Iteration: 18600 Loss: 1.6697975397109985\n",
      "Epoch: 192/200 Iteration: 18700 Loss: 1.7433791160583496\n",
      "Epoch: 193/200 Iteration: 18800 Loss: 1.7521271705627441\n",
      "Epoch: 194/200 Iteration: 18900 Loss: 1.7438836097717285\n",
      "Epoch: 195/200 Iteration: 19000 Loss: 1.6828278303146362\n",
      "Epoch: 196/200 Iteration: 19100 Loss: 1.6858108043670654\n",
      "Epoch: 197/200 Iteration: 19200 Loss: 1.6996774673461914\n",
      "Epoch: 198/200 Iteration: 19300 Loss: 1.7183105945587158\n"
     ]
    }
   ],
   "source": [
    "epoch_loss = []\n",
    "best_loss = np.inf\n",
    "for epoch in range(200):\n",
    "    batches = get_batches(in_text, out_text, batch_size, seq_size)\n",
    "    state_h, _ = rnn.zero_state(batch_size)\n",
    "\n",
    "    for x, y in batches:\n",
    "        rnn.train()\n",
    "        optimizer.zero_grad()\n",
    "\n",
    "        x = torch.tensor(x).to(torch.int64)\n",
    "        y = torch.tensor(y).to(torch.int64)\n",
    "\n",
    "        logits, state_h = rnn(x, state_h)\n",
    "        loss = criterion(logits.transpose(1, 2), y)\n",
    "\n",
    "        state_h = state_h.detach()\n",
    "        state_c = state_c.detach()\n",
    "\n",
    "        loss_value = loss.item()\n",
    "        loss.backward()\n",
    "\n",
    "        _ = torch.nn.utils.clip_grad_norm_(\n",
    "            rnn.parameters(), 5)\n",
    "\n",
    "        optimizer.step()\n",
    "        if iteration % 100 == 0:\n",
    "            print('Epoch: {}/{}'.format(epoch, 200),\n",
    "                      'Iteration: {}'.format(iteration),\n",
    "                      'Loss: {}'.format(loss_value))\n",
    "\n",
    "        iteration += 1\n",
    "\n",
    "    if loss_value < best_loss:\n",
    "        torch.save(rnn.state_dict(), 'checkpoint_pt/model-rnn.pth')\n",
    "            \n",
    "    epoch_loss.append(loss_value)"
   ]
  },
  {
   "cell_type": "markdown",
   "metadata": {},
   "source": [
    "Plot the loss function (axis X: number of epochs, axis Y: loss function)."
   ]
  },
  {
   "cell_type": "code",
   "execution_count": 141,
   "metadata": {},
   "outputs": [
    {
     "data": {
      "image/png": "[encoded data removed]",
      "text/plain": [
       "<Figure size 576x432 with 1 Axes>"
      ]
     },
     "metadata": {
      "needs_background": "light"
     },
     "output_type": "display_data"
    }
   ],
   "source": [
    "plt.figure(figsize=(8,6))\n",
    "plt.plot(np.arange(len(epoch_loss))+1, epoch_loss)\n",
    "plt.plot(np.argmin(epoch_loss)+1, np.min(epoch_loss), 'ro')\n",
    "plt.xlabel('Epoch')\n",
    "plt.title(\"Loss\")\n",
    "plt.grid()"
   ]
  },
  {
   "cell_type": "markdown",
   "metadata": {},
   "source": [
    "### More poetic model\n",
    "\n",
    "Let's use LSTM instead of vanilla RNN and compare the results."
   ]
  },
  {
   "cell_type": "markdown",
   "metadata": {},
   "source": [
    "Plot the loss function of the number of epochs. Does the final loss become better?"
   ]
  },
  {
   "cell_type": "code",
   "execution_count": null,
   "metadata": {},
   "outputs": [],
   "source": [
    "# Your beautiful code here"
   ]
  },
  {
   "cell_type": "code",
   "execution_count": 158,
   "metadata": {},
   "outputs": [],
   "source": [
    "seq_size = 32\n",
    "batch_size = 32\n",
    "lstm_size = 38\n",
    "embedding_size = 38"
   ]
  },
  {
   "cell_type": "code",
   "execution_count": 12,
   "metadata": {},
   "outputs": [],
   "source": [
    "num_batches = int(len(encoded) / (seq_size * batch_size))\n",
    "in_text = encoded[:num_batches * batch_size * seq_size]\n",
    "out_text = np.zeros_like(in_text)\n",
    "out_text[:-1] = in_text[1:]\n",
    "out_text[-1] = in_text[0]\n",
    "in_text = np.reshape(in_text, (batch_size, -1))\n",
    "out_text = np.reshape(out_text, (batch_size, -1))"
   ]
  },
  {
   "cell_type": "code",
   "execution_count": 161,
   "metadata": {},
   "outputs": [],
   "source": [
    "class LSTModule(nn.Module):\n",
    "    def __init__(self, n_vocab, seq_size, embedding_size, lstm_size):\n",
    "        super(LSTModule, self).__init__()\n",
    "        self.seq_size = seq_size\n",
    "        self.lstm_size = lstm_size\n",
    "        self.embedding = nn.Embedding(n_vocab, embedding_size)\n",
    "        self.lstm = nn.LSTM(embedding_size, lstm_size,  batch_first=True)\n",
    "        self.dense = nn.Linear(lstm_size, num_tokens)\n",
    "        \n",
    "    def forward(self, x, prev_state):\n",
    "        embed = self.embedding(x)\n",
    "        output, state = self.lstm(embed, prev_state)\n",
    "        logits = self.dense(output)\n",
    "\n",
    "        return logits, state        \n",
    "        \n",
    "    def zero_state(self, batch_size):\n",
    "        return (torch.zeros(1, batch_size, self.lstm_size),\n",
    "                torch.zeros(1, batch_size, self.lstm_size))"
   ]
  },
  {
   "cell_type": "code",
   "execution_count": 162,
   "metadata": {},
   "outputs": [],
   "source": [
    "net = LSTModule(num_tokens, seq_size, embedding_size, lstm_size)\n",
    "iteration = 0"
   ]
  },
  {
   "cell_type": "code",
   "execution_count": 163,
   "metadata": {},
   "outputs": [],
   "source": [
    "criterion = nn.CrossEntropyLoss()\n",
    "optimizer = torch.optim.Adam(net.parameters(), lr=0.01)"
   ]
  },
  {
   "cell_type": "code",
   "execution_count": 21,
   "metadata": {},
   "outputs": [
    {
     "name": "stdout",
     "output_type": "stream",
     "text": [
      "Epoch: 0/200 Iteration: 0 Loss: 3.640289068222046\n",
      "Epoch: 1/200 Iteration: 100 Loss: 2.05541729927063\n",
      "Epoch: 2/200 Iteration: 200 Loss: 1.843192219734192\n",
      "Epoch: 3/200 Iteration: 300 Loss: 1.7879966497421265\n",
      "Epoch: 4/200 Iteration: 400 Loss: 1.780694842338562\n",
      "Epoch: 5/200 Iteration: 500 Loss: 1.7164909839630127\n",
      "Epoch: 6/200 Iteration: 600 Loss: 1.6264777183532715\n",
      "Epoch: 7/200 Iteration: 700 Loss: 1.6994142532348633\n",
      "Epoch: 8/200 Iteration: 800 Loss: 1.629487156867981\n",
      "Epoch: 9/200 Iteration: 900 Loss: 1.53121817111969\n",
      "Epoch: 10/200 Iteration: 1000 Loss: 1.6839323043823242\n",
      "Epoch: 11/200 Iteration: 1100 Loss: 1.6572623252868652\n",
      "Epoch: 12/200 Iteration: 1200 Loss: 1.6023732423782349\n",
      "Epoch: 13/200 Iteration: 1300 Loss: 1.5797216892242432\n",
      "Epoch: 14/200 Iteration: 1400 Loss: 1.6779074668884277\n",
      "Epoch: 15/200 Iteration: 1500 Loss: 1.5917341709136963\n",
      "Epoch: 16/200 Iteration: 1600 Loss: 1.644881010055542\n",
      "Epoch: 17/200 Iteration: 1700 Loss: 1.538813591003418\n",
      "Epoch: 18/200 Iteration: 1800 Loss: 1.5484797954559326\n",
      "Epoch: 19/200 Iteration: 1900 Loss: 1.5585039854049683\n",
      "Epoch: 20/200 Iteration: 2000 Loss: 1.486315369606018\n",
      "Epoch: 21/200 Iteration: 2100 Loss: 1.5455266237258911\n",
      "Epoch: 22/200 Iteration: 2200 Loss: 1.5651135444641113\n",
      "Epoch: 23/200 Iteration: 2300 Loss: 1.6344162225723267\n",
      "Epoch: 24/200 Iteration: 2400 Loss: 1.6381996870040894\n",
      "Epoch: 25/200 Iteration: 2500 Loss: 1.5808335542678833\n",
      "Epoch: 26/200 Iteration: 2600 Loss: 1.579696536064148\n",
      "Epoch: 27/200 Iteration: 2700 Loss: 1.4488617181777954\n",
      "Epoch: 28/200 Iteration: 2800 Loss: 1.5037028789520264\n",
      "Epoch: 29/200 Iteration: 2900 Loss: 1.5338751077651978\n",
      "Epoch: 30/200 Iteration: 3000 Loss: 1.5927104949951172\n",
      "Epoch: 31/200 Iteration: 3100 Loss: 1.5439984798431396\n",
      "Epoch: 32/200 Iteration: 3200 Loss: 1.5907297134399414\n",
      "Epoch: 34/200 Iteration: 3300 Loss: 1.4477204084396362\n",
      "Epoch: 35/200 Iteration: 3400 Loss: 1.5410805940628052\n",
      "Epoch: 36/200 Iteration: 3500 Loss: 1.5734981298446655\n",
      "Epoch: 37/200 Iteration: 3600 Loss: 1.5253616571426392\n",
      "Epoch: 38/200 Iteration: 3700 Loss: 1.5174938440322876\n",
      "Epoch: 39/200 Iteration: 3800 Loss: 1.553713321685791\n",
      "Epoch: 40/200 Iteration: 3900 Loss: 1.5491294860839844\n",
      "Epoch: 41/200 Iteration: 4000 Loss: 1.4477043151855469\n",
      "Epoch: 42/200 Iteration: 4100 Loss: 1.5743118524551392\n",
      "Epoch: 43/200 Iteration: 4200 Loss: 1.4784585237503052\n",
      "Epoch: 44/200 Iteration: 4300 Loss: 1.5160695314407349\n",
      "Epoch: 45/200 Iteration: 4400 Loss: 1.5318938493728638\n",
      "Epoch: 46/200 Iteration: 4500 Loss: 1.4735461473464966\n",
      "Epoch: 47/200 Iteration: 4600 Loss: 1.5382767915725708\n",
      "Epoch: 48/200 Iteration: 4700 Loss: 1.5266032218933105\n",
      "Epoch: 49/200 Iteration: 4800 Loss: 1.5068674087524414\n",
      "Epoch: 50/200 Iteration: 4900 Loss: 1.495373010635376\n",
      "Epoch: 51/200 Iteration: 5000 Loss: 1.4689735174179077\n",
      "Epoch: 52/200 Iteration: 5100 Loss: 1.4523561000823975\n",
      "Epoch: 53/200 Iteration: 5200 Loss: 1.55138099193573\n",
      "Epoch: 54/200 Iteration: 5300 Loss: 1.5068656206130981\n",
      "Epoch: 55/200 Iteration: 5400 Loss: 1.4778209924697876\n",
      "Epoch: 56/200 Iteration: 5500 Loss: 1.5649372339248657\n",
      "Epoch: 57/200 Iteration: 5600 Loss: 1.6269491910934448\n",
      "Epoch: 58/200 Iteration: 5700 Loss: 1.5084826946258545\n",
      "Epoch: 59/200 Iteration: 5800 Loss: 1.5016138553619385\n",
      "Epoch: 60/200 Iteration: 5900 Loss: 1.5434073209762573\n",
      "Epoch: 61/200 Iteration: 6000 Loss: 1.5292773246765137\n",
      "Epoch: 62/200 Iteration: 6100 Loss: 1.543524146080017\n",
      "Epoch: 63/200 Iteration: 6200 Loss: 1.5256304740905762\n",
      "Epoch: 64/200 Iteration: 6300 Loss: 1.5304204225540161\n",
      "Epoch: 65/200 Iteration: 6400 Loss: 1.5155982971191406\n",
      "Epoch: 67/200 Iteration: 6500 Loss: 1.4646072387695312\n",
      "Epoch: 68/200 Iteration: 6600 Loss: 1.5353586673736572\n",
      "Epoch: 69/200 Iteration: 6700 Loss: 1.4957764148712158\n",
      "Epoch: 70/200 Iteration: 6800 Loss: 1.5104374885559082\n",
      "Epoch: 71/200 Iteration: 6900 Loss: 1.4655245542526245\n",
      "Epoch: 72/200 Iteration: 7000 Loss: 1.517736792564392\n",
      "Epoch: 73/200 Iteration: 7100 Loss: 1.443420648574829\n",
      "Epoch: 74/200 Iteration: 7200 Loss: 1.508557915687561\n",
      "Epoch: 75/200 Iteration: 7300 Loss: 1.52971351146698\n",
      "Epoch: 76/200 Iteration: 7400 Loss: 1.5231904983520508\n",
      "Epoch: 77/200 Iteration: 7500 Loss: 1.4540114402770996\n",
      "Epoch: 78/200 Iteration: 7600 Loss: 1.498120903968811\n",
      "Epoch: 79/200 Iteration: 7700 Loss: 1.4654043912887573\n",
      "Epoch: 80/200 Iteration: 7800 Loss: 1.539276361465454\n",
      "Epoch: 81/200 Iteration: 7900 Loss: 1.4545245170593262\n",
      "Epoch: 82/200 Iteration: 8000 Loss: 1.5020205974578857\n",
      "Epoch: 83/200 Iteration: 8100 Loss: 1.502111792564392\n",
      "Epoch: 84/200 Iteration: 8200 Loss: 1.4419834613800049\n",
      "Epoch: 85/200 Iteration: 8300 Loss: 1.5767301321029663\n",
      "Epoch: 86/200 Iteration: 8400 Loss: 1.4805644750595093\n",
      "Epoch: 87/200 Iteration: 8500 Loss: 1.5185292959213257\n",
      "Epoch: 88/200 Iteration: 8600 Loss: 1.4765158891677856\n",
      "Epoch: 89/200 Iteration: 8700 Loss: 1.497279405593872\n",
      "Epoch: 90/200 Iteration: 8800 Loss: 1.548052430152893\n",
      "Epoch: 91/200 Iteration: 8900 Loss: 1.4840078353881836\n",
      "Epoch: 92/200 Iteration: 9000 Loss: 1.5079985857009888\n",
      "Epoch: 93/200 Iteration: 9100 Loss: 1.5109719038009644\n",
      "Epoch: 94/200 Iteration: 9200 Loss: 1.588271141052246\n",
      "Epoch: 95/200 Iteration: 9300 Loss: 1.4936814308166504\n",
      "Epoch: 96/200 Iteration: 9400 Loss: 1.4858354330062866\n",
      "Epoch: 97/200 Iteration: 9500 Loss: 1.5086511373519897\n",
      "Epoch: 98/200 Iteration: 9600 Loss: 1.474717617034912\n",
      "Epoch: 100/200 Iteration: 9700 Loss: 1.474430799484253\n",
      "Epoch: 101/200 Iteration: 9800 Loss: 1.5019702911376953\n",
      "Epoch: 102/200 Iteration: 9900 Loss: 1.4551548957824707\n",
      "Epoch: 103/200 Iteration: 10000 Loss: 1.5109072923660278\n",
      "Epoch: 104/200 Iteration: 10100 Loss: 1.4804058074951172\n",
      "Epoch: 105/200 Iteration: 10200 Loss: 1.4645001888275146\n",
      "Epoch: 106/200 Iteration: 10300 Loss: 1.4095792770385742\n",
      "Epoch: 107/200 Iteration: 10400 Loss: 1.5246169567108154\n",
      "Epoch: 108/200 Iteration: 10500 Loss: 1.472952127456665\n",
      "Epoch: 109/200 Iteration: 10600 Loss: 1.3888587951660156\n",
      "Epoch: 110/200 Iteration: 10700 Loss: 1.5528792142868042\n",
      "Epoch: 111/200 Iteration: 10800 Loss: 1.4904212951660156\n",
      "Epoch: 112/200 Iteration: 10900 Loss: 1.4739307165145874\n",
      "Epoch: 113/200 Iteration: 11000 Loss: 1.465704321861267\n",
      "Epoch: 114/200 Iteration: 11100 Loss: 1.5768518447875977\n",
      "Epoch: 115/200 Iteration: 11200 Loss: 1.4820281267166138\n",
      "Epoch: 116/200 Iteration: 11300 Loss: 1.5545761585235596\n",
      "Epoch: 117/200 Iteration: 11400 Loss: 1.4554123878479004\n",
      "Epoch: 118/200 Iteration: 11500 Loss: 1.4700446128845215\n",
      "Epoch: 119/200 Iteration: 11600 Loss: 1.481508493423462\n",
      "Epoch: 120/200 Iteration: 11700 Loss: 1.4219506978988647\n",
      "Epoch: 121/200 Iteration: 11800 Loss: 1.4527486562728882\n",
      "Epoch: 122/200 Iteration: 11900 Loss: 1.5057244300842285\n",
      "Epoch: 123/200 Iteration: 12000 Loss: 1.533456563949585\n",
      "Epoch: 124/200 Iteration: 12100 Loss: 1.5541383028030396\n",
      "Epoch: 125/200 Iteration: 12200 Loss: 1.508050799369812\n",
      "Epoch: 126/200 Iteration: 12300 Loss: 1.5028163194656372\n",
      "Epoch: 127/200 Iteration: 12400 Loss: 1.4055213928222656\n",
      "Epoch: 128/200 Iteration: 12500 Loss: 1.4617812633514404\n",
      "Epoch: 129/200 Iteration: 12600 Loss: 1.489166498184204\n",
      "Epoch: 130/200 Iteration: 12700 Loss: 1.5328688621520996\n",
      "Epoch: 131/200 Iteration: 12800 Loss: 1.5011063814163208\n",
      "Epoch: 132/200 Iteration: 12900 Loss: 1.5533645153045654\n",
      "Epoch: 134/200 Iteration: 13000 Loss: 1.3888421058654785\n",
      "Epoch: 135/200 Iteration: 13100 Loss: 1.512018084526062\n",
      "Epoch: 136/200 Iteration: 13200 Loss: 1.5523864030838013\n",
      "Epoch: 137/200 Iteration: 13300 Loss: 1.4920642375946045\n",
      "Epoch: 138/200 Iteration: 13400 Loss: 1.4787734746932983\n",
      "Epoch: 139/200 Iteration: 13500 Loss: 1.5246386528015137\n",
      "Epoch: 140/200 Iteration: 13600 Loss: 1.536568522453308\n",
      "Epoch: 141/200 Iteration: 13700 Loss: 1.4149401187896729\n",
      "Epoch: 142/200 Iteration: 13800 Loss: 1.5288289785385132\n",
      "Epoch: 143/200 Iteration: 13900 Loss: 1.4463378190994263\n",
      "Epoch: 144/200 Iteration: 14000 Loss: 1.4573299884796143\n",
      "Epoch: 145/200 Iteration: 14100 Loss: 1.4879487752914429\n",
      "Epoch: 146/200 Iteration: 14200 Loss: 1.4602596759796143\n",
      "Epoch: 147/200 Iteration: 14300 Loss: 1.4822720289230347\n",
      "Epoch: 148/200 Iteration: 14400 Loss: 1.50358247756958\n",
      "Epoch: 149/200 Iteration: 14500 Loss: 1.4880776405334473\n",
      "Epoch: 150/200 Iteration: 14600 Loss: 1.458919644355774\n",
      "Epoch: 151/200 Iteration: 14700 Loss: 1.419729471206665\n",
      "Epoch: 152/200 Iteration: 14800 Loss: 1.40044367313385\n",
      "Epoch: 153/200 Iteration: 14900 Loss: 1.5130293369293213\n",
      "Epoch: 154/200 Iteration: 15000 Loss: 1.4815778732299805\n",
      "Epoch: 155/200 Iteration: 15100 Loss: 1.4455227851867676\n",
      "Epoch: 156/200 Iteration: 15200 Loss: 1.532733678817749\n",
      "Epoch: 157/200 Iteration: 15300 Loss: 1.5908530950546265\n",
      "Epoch: 158/200 Iteration: 15400 Loss: 1.4780588150024414\n",
      "Epoch: 159/200 Iteration: 15500 Loss: 1.4716686010360718\n",
      "Epoch: 160/200 Iteration: 15600 Loss: 1.5437456369400024\n",
      "Epoch: 161/200 Iteration: 15700 Loss: 1.5286023616790771\n",
      "Epoch: 162/200 Iteration: 15800 Loss: 1.5238856077194214\n",
      "Epoch: 163/200 Iteration: 15900 Loss: 1.5079373121261597\n",
      "Epoch: 164/200 Iteration: 16000 Loss: 1.595399022102356\n",
      "Epoch: 165/200 Iteration: 16100 Loss: 1.5111935138702393\n",
      "Epoch: 167/200 Iteration: 16200 Loss: 1.4769524335861206\n",
      "Epoch: 168/200 Iteration: 16300 Loss: 1.5539873838424683\n",
      "Epoch: 169/200 Iteration: 16400 Loss: 1.4707411527633667\n",
      "Epoch: 170/200 Iteration: 16500 Loss: 1.5058727264404297\n",
      "Epoch: 171/200 Iteration: 16600 Loss: 1.4587863683700562\n",
      "Epoch: 172/200 Iteration: 16700 Loss: 1.5060101747512817\n",
      "Epoch: 173/200 Iteration: 16800 Loss: 1.4266867637634277\n",
      "Epoch: 174/200 Iteration: 16900 Loss: 1.4663602113723755\n",
      "Epoch: 175/200 Iteration: 17000 Loss: 1.5168870687484741\n",
      "Epoch: 176/200 Iteration: 17100 Loss: 1.518518328666687\n",
      "Epoch: 177/200 Iteration: 17200 Loss: 1.4447059631347656\n",
      "Epoch: 178/200 Iteration: 17300 Loss: 1.4723273515701294\n",
      "Epoch: 179/200 Iteration: 17400 Loss: 1.4396389722824097\n",
      "Epoch: 180/200 Iteration: 17500 Loss: 1.4784497022628784\n",
      "Epoch: 181/200 Iteration: 17600 Loss: 1.4390981197357178\n",
      "Epoch: 182/200 Iteration: 17700 Loss: 1.47966468334198\n",
      "Epoch: 183/200 Iteration: 17800 Loss: 1.4689514636993408\n",
      "Epoch: 184/200 Iteration: 17900 Loss: 1.4176926612854004\n",
      "Epoch: 185/200 Iteration: 18000 Loss: 1.4524997472763062\n",
      "Epoch: 186/200 Iteration: 18100 Loss: 1.4853883981704712\n",
      "Epoch: 187/200 Iteration: 18200 Loss: 1.4742555618286133\n",
      "Epoch: 188/200 Iteration: 18300 Loss: 1.4483286142349243\n",
      "Epoch: 189/200 Iteration: 18400 Loss: 1.5000826120376587\n",
      "Epoch: 190/200 Iteration: 18500 Loss: 1.5234923362731934\n",
      "Epoch: 191/200 Iteration: 18600 Loss: 1.4515223503112793\n",
      "Epoch: 192/200 Iteration: 18700 Loss: 1.5040218830108643\n",
      "Epoch: 193/200 Iteration: 18800 Loss: 1.5257675647735596\n",
      "Epoch: 194/200 Iteration: 18900 Loss: 1.5787593126296997\n",
      "Epoch: 195/200 Iteration: 19000 Loss: 1.4846447706222534\n",
      "Epoch: 196/200 Iteration: 19100 Loss: 1.4727498292922974\n",
      "Epoch: 197/200 Iteration: 19200 Loss: 1.4987449645996094\n",
      "Epoch: 198/200 Iteration: 19300 Loss: 1.4887326955795288\n"
     ]
    }
   ],
   "source": [
    "epoch_loss = []\n",
    "best_loss = np.inf\n",
    "for epoch in range(200):\n",
    "    batches = get_batches(in_text, out_text, batch_size, seq_size)\n",
    "    state_h, state_c = net.zero_state(batch_size)\n",
    "\n",
    "    for x, y in batches:\n",
    "        net.train()\n",
    "        optimizer.zero_grad()\n",
    "\n",
    "        x = torch.tensor(x).to(torch.int64)\n",
    "        y = torch.tensor(y).to(torch.int64)\n",
    "\n",
    "        logits, (state_h, state_c) = net(x, (state_h, state_c))\n",
    "        loss = criterion(logits.transpose(1, 2), y)\n",
    "\n",
    "        state_h = state_h.detach()\n",
    "        state_c = state_c.detach()\n",
    "        loss_value = loss.item()\n",
    "        loss.backward()\n",
    "\n",
    "        _ = torch.nn.utils.clip_grad_norm_(\n",
    "            net.parameters(), 5)\n",
    "\n",
    "        optimizer.step()\n",
    "        if iteration % 100 == 0:\n",
    "            print('Epoch: {}/{}'.format(epoch, 200),\n",
    "                      'Iteration: {}'.format(iteration),\n",
    "                      'Loss: {}'.format(loss_value))\n",
    "\n",
    "        iteration += 1\n",
    "    if loss_value < best_loss:\n",
    "        torch.save(net.state_dict(),\n",
    "                   'checkpoint_pt/model-lstm.pth')            \n",
    "    epoch_loss.append(loss_value)"
   ]
  },
  {
   "cell_type": "markdown",
   "metadata": {},
   "source": [
    "Plot the loss function (axis X: number of epochs, axis Y: loss function)."
   ]
  },
  {
   "cell_type": "code",
   "execution_count": 32,
   "metadata": {},
   "outputs": [
    {
     "data": {
      "image/png": "[encoded data removed]",
      "text/plain": [
       "<Figure size 576x432 with 1 Axes>"
      ]
     },
     "metadata": {
      "needs_background": "light"
     },
     "output_type": "display_data"
    }
   ],
   "source": [
    "plt.figure(figsize=(8,6))\n",
    "plt.plot(np.arange(len(epoch_loss))+1, epoch_loss)\n",
    "plt.plot(np.argmin(epoch_loss)+1, np.min(epoch_loss), 'ro')\n",
    "plt.xlabel('Epoch')\n",
    "plt.title(\"Loss\")\n",
    "plt.grid()"
   ]
  },
  {
   "cell_type": "code",
   "execution_count": null,
   "metadata": {},
   "outputs": [],
   "source": [
    "1.427"
   ]
  },
  {
   "cell_type": "markdown",
   "metadata": {},
   "source": [
    "Generate text using the trained net with different `temperature` parameter: `[0.1, 0.2, 0.5, 1.0, 2.0]`.\n",
    "\n",
    "Evaluate the results visually, try to interpret them."
   ]
  },
  {
   "cell_type": "code",
   "execution_count": 181,
   "metadata": {
    "scrolled": true
   },
   "outputs": [],
   "source": [
    "# initial_words = 'hello '\n",
    "# temperature = 1\n",
    "# def predict(net, words, n_vocab, vocab_to_int, int_to_vocab, top_k=1):\n",
    "#     net.eval()\n",
    "#     state_h, state_c = net.zero_state(1)\n",
    "#     for w in words:\n",
    "#         ix = torch.tensor([[token_to_id[w]]])\n",
    "#         output, (state_h, state_c) = net(ix, (state_h, state_c))\n",
    "    \n",
    "#     _, top_ix = torch.topk(output[0], k=top_k)\n",
    "#     choices = top_ix.tolist()\n",
    "#     choice = np.random.choice(choices[0])\n",
    "\n",
    "#     words += int_to_vocab[choice]\n",
    "#     for _ in range(100):\n",
    "#         ix = torch.tensor([[choice]]).to(torch.int64)\n",
    "#         print(ix)\n",
    "#         output, (state_h, state_c) = net(ix, (state_h, state_c))\n",
    "        \n",
    "#         p_next = F.softmax(output / temperature, dim=-1).data.numpy()[0]\n",
    "# #         print(p_next.shape, len(tokens))\n",
    "# #         next_ix = np.random.choice(len(tokens), p=p_next)\n",
    "# #         next_ix = torch.tensor([[next_ix]], dtype=torch.int64)\n",
    "# #         print(x_sequence.shape, next_ix.shape)\n",
    "# #         x_sequence = torch.cat([x_sequence, next_ix], dim=1)\n",
    "        \n",
    "#         _, ix = torch.topk(output[0], k=1)\n",
    "#         choices = top_ix.tolist()\n",
    "#         choice = np.random.choice(choices[0])\n",
    "#         words += int_to_vocab[choice]\n",
    "\n",
    "#     print(''.join(words))\n",
    "# predict(net, initial_words, num_tokens, token_to_id, idx_to_token)"
   ]
  },
  {
   "cell_type": "code",
   "execution_count": 156,
   "metadata": {},
   "outputs": [],
   "source": [
    "MAX_LENGTH = 16\n",
    "def generate_sample(char_rnn, seed_phrase=' Hello', max_length=MAX_LENGTH, temperature=1.0):\n",
    "    '''\n",
    "    The function generates text given a phrase of length at least SEQ_LENGTH.\n",
    "    :param seed_phrase: prefix characters. The RNN is asked to continue the phrase\n",
    "    :param max_length: maximum output length, including seed_phrase\n",
    "    :param temperature: coefficient for sampling.  higher temperature produces more chaotic outputs, \n",
    "        smaller temperature converges to the single most likely output.\n",
    "        \n",
    "    Be careful with the model output. This model waits logits (not probabilities/log-probabilities)\n",
    "    of the next symbol.\n",
    "    '''\n",
    "    \n",
    "    x_sequence = [token_to_id[token] for token in seed_phrase]\n",
    "    x_sequence = torch.tensor([[x_sequence]], dtype=torch.int64)\n",
    "    hid_state, _ = char_rnn.zero_state(batch_size=1)\n",
    "    \n",
    "    #feed the seed phrase, if any\n",
    "    for i in range(len(seed_phrase) - 1):\n",
    "#         print(x_sequence[:, -1].shape, hid_state.shape)\n",
    "        _, hid_state = char_rnn(x_sequence[:, i], hid_state)\n",
    "    \n",
    "    #start generating\n",
    "    for _ in range(max_length - len(seed_phrase)):\n",
    "#         print(x_sequence.shape, x_sequence, hid_state.shape)\n",
    "        out, hid_state = char_rnn(x_sequence[:, -1], hid_state)\n",
    "    \n",
    "        # Be really careful here with the model output\n",
    "        p_next = F.softmax(out / temperature, dim=-1).data.numpy()[0]\n",
    "        \n",
    "        # sample next token and push it back into x_sequence\n",
    "        next_ix = np.random.choice(len(tokens), p=p_next[0])\n",
    "        next_ix = torch.tensor([[next_ix]], dtype=torch.int64)\n",
    "        print(x_sequence.shape, next_ix.shape)\n",
    "        x_sequence = torch.cat([x_sequence, next_ix], dim=1)\n",
    "        \n",
    "    return ''.join([tokens[ix] for ix in x_sequence.data.numpy()[0]])"
   ]
  },
  {
   "cell_type": "code",
   "execution_count": 157,
   "metadata": {},
   "outputs": [
    {
     "name": "stdout",
     "output_type": "stream",
     "text": [
      "torch.Size([1, 1, 2]) torch.Size([1, 1])\n"
     ]
    },
    {
     "ename": "RuntimeError",
     "evalue": "invalid argument 0: Tensors must have same number of dimensions: got 3 and 2 at C:\\w\\1\\s\\windows\\pytorch\\aten\\src\\TH/generic/THTensor.cpp:603",
     "output_type": "error",
     "traceback": [
      "\u001b[1;31m---------------------------------------------------------------------------\u001b[0m",
      "\u001b[1;31mRuntimeError\u001b[0m                              Traceback (most recent call last)",
      "\u001b[1;32m<ipython-input-157-858980917cca>\u001b[0m in \u001b[0;36m<module>\u001b[1;34m()\u001b[0m\n\u001b[0;32m      1\u001b[0m \u001b[1;31m# An example of generated text.\u001b[0m\u001b[1;33m\u001b[0m\u001b[1;33m\u001b[0m\u001b[1;33m\u001b[0m\u001b[0m\n\u001b[0;32m      2\u001b[0m \u001b[1;31m# print(generate_text(length=500, temperature=0.2))\u001b[0m\u001b[1;33m\u001b[0m\u001b[1;33m\u001b[0m\u001b[1;33m\u001b[0m\u001b[0m\n\u001b[1;32m----> 3\u001b[1;33m \u001b[0mprint\u001b[0m\u001b[1;33m(\u001b[0m\u001b[0mgenerate_sample\u001b[0m\u001b[1;33m(\u001b[0m\u001b[0mnet\u001b[0m\u001b[1;33m,\u001b[0m \u001b[0mseed_phrase\u001b[0m \u001b[1;33m=\u001b[0m \u001b[1;34m'wi'\u001b[0m\u001b[1;33m,\u001b[0m \u001b[0mmax_length\u001b[0m\u001b[1;33m=\u001b[0m\u001b[1;36m20\u001b[0m\u001b[1;33m,\u001b[0m \u001b[0mtemperature\u001b[0m\u001b[1;33m=\u001b[0m\u001b[1;36m0.001\u001b[0m\u001b[1;33m)\u001b[0m\u001b[1;33m)\u001b[0m\u001b[1;33m\u001b[0m\u001b[1;33m\u001b[0m\u001b[0m\n\u001b[0m",
      "\u001b[1;32m<ipython-input-156-d0a0ecb7e291>\u001b[0m in \u001b[0;36mgenerate_sample\u001b[1;34m(char_rnn, seed_phrase, max_length, temperature)\u001b[0m\n\u001b[0;32m     33\u001b[0m         \u001b[0mnext_ix\u001b[0m \u001b[1;33m=\u001b[0m \u001b[0mtorch\u001b[0m\u001b[1;33m.\u001b[0m\u001b[0mtensor\u001b[0m\u001b[1;33m(\u001b[0m\u001b[1;33m[\u001b[0m\u001b[1;33m[\u001b[0m\u001b[0mnext_ix\u001b[0m\u001b[1;33m]\u001b[0m\u001b[1;33m]\u001b[0m\u001b[1;33m,\u001b[0m \u001b[0mdtype\u001b[0m\u001b[1;33m=\u001b[0m\u001b[0mtorch\u001b[0m\u001b[1;33m.\u001b[0m\u001b[0mint64\u001b[0m\u001b[1;33m)\u001b[0m\u001b[1;33m\u001b[0m\u001b[1;33m\u001b[0m\u001b[0m\n\u001b[0;32m     34\u001b[0m         \u001b[0mprint\u001b[0m\u001b[1;33m(\u001b[0m\u001b[0mx_sequence\u001b[0m\u001b[1;33m.\u001b[0m\u001b[0mshape\u001b[0m\u001b[1;33m,\u001b[0m \u001b[0mnext_ix\u001b[0m\u001b[1;33m.\u001b[0m\u001b[0mshape\u001b[0m\u001b[1;33m)\u001b[0m\u001b[1;33m\u001b[0m\u001b[1;33m\u001b[0m\u001b[0m\n\u001b[1;32m---> 35\u001b[1;33m         \u001b[0mx_sequence\u001b[0m \u001b[1;33m=\u001b[0m \u001b[0mtorch\u001b[0m\u001b[1;33m.\u001b[0m\u001b[0mcat\u001b[0m\u001b[1;33m(\u001b[0m\u001b[1;33m[\u001b[0m\u001b[0mx_sequence\u001b[0m\u001b[1;33m,\u001b[0m \u001b[0mnext_ix\u001b[0m\u001b[1;33m]\u001b[0m\u001b[1;33m,\u001b[0m \u001b[0mdim\u001b[0m\u001b[1;33m=\u001b[0m\u001b[1;36m1\u001b[0m\u001b[1;33m)\u001b[0m\u001b[1;33m\u001b[0m\u001b[1;33m\u001b[0m\u001b[0m\n\u001b[0m\u001b[0;32m     36\u001b[0m \u001b[1;33m\u001b[0m\u001b[0m\n\u001b[0;32m     37\u001b[0m     \u001b[1;32mreturn\u001b[0m \u001b[1;34m''\u001b[0m\u001b[1;33m.\u001b[0m\u001b[0mjoin\u001b[0m\u001b[1;33m(\u001b[0m\u001b[1;33m[\u001b[0m\u001b[0mtokens\u001b[0m\u001b[1;33m[\u001b[0m\u001b[0mix\u001b[0m\u001b[1;33m]\u001b[0m \u001b[1;32mfor\u001b[0m \u001b[0mix\u001b[0m \u001b[1;32min\u001b[0m \u001b[0mx_sequence\u001b[0m\u001b[1;33m.\u001b[0m\u001b[0mdata\u001b[0m\u001b[1;33m.\u001b[0m\u001b[0mnumpy\u001b[0m\u001b[1;33m(\u001b[0m\u001b[1;33m)\u001b[0m\u001b[1;33m[\u001b[0m\u001b[1;36m0\u001b[0m\u001b[1;33m]\u001b[0m\u001b[1;33m]\u001b[0m\u001b[1;33m)\u001b[0m\u001b[1;33m\u001b[0m\u001b[1;33m\u001b[0m\u001b[0m\n",
      "\u001b[1;31mRuntimeError\u001b[0m: invalid argument 0: Tensors must have same number of dimensions: got 3 and 2 at C:\\w\\1\\s\\windows\\pytorch\\aten\\src\\TH/generic/THTensor.cpp:603"
     ]
    }
   ],
   "source": [
    "# An example of generated text.\n",
    "# print(generate_text(length=500, temperature=0.2))\n",
    "print(generate_sample(net, seed_phrase = 'wi', max_length=20, temperature=0.001))"
   ]
  },
  {
   "cell_type": "code",
   "execution_count": 20,
   "metadata": {},
   "outputs": [],
   "source": [
    "initial_words=['I', 'am'],\n",
    "def predict(net, words, n_vocab, vocab_to_int, int_to_vocab, top_k=5):\n",
    "    net.eval()\n",
    "    state_h, state_c = net.zero_state(1)\n",
    "    for w in words:\n",
    "        ix = torch.tensor([[token_to_id[w]]])\n",
    "        output, (state_h, state_c) = net(ix, (state_h, state_c))\n",
    "    \n",
    "    _, top_ix = torch.topk(output[0], k=top_k)\n",
    "    choices = top_ix.tolist()\n",
    "    choice = np.random.choice(choices[0])\n",
    "\n",
    "    words.append(int_to_vocab[choice])\n",
    "    for _ in range(100):\n",
    "        ix = torch.tensor([[choice]])\n",
    "        output, (state_h, state_c) = net(ix, (state_h, state_c))\n",
    "\n",
    "        _, top_ix = torch.topk(output[0], k=top_k)\n",
    "        choices = top_ix.tolist()\n",
    "        choice = np.random.choice(choices[0])\n",
    "        words.append(int_to_vocab[choice])\n",
    "\n",
    "    print(' '.join(words))"
   ]
  },
  {
   "cell_type": "code",
   "execution_count": null,
   "metadata": {},
   "outputs": [],
   "source": [
    "# Text generation with different temperature values here"
   ]
  },
  {
   "cell_type": "markdown",
   "metadata": {},
   "source": [
    "### Saving and loading models"
   ]
  },
  {
   "cell_type": "markdown",
   "metadata": {},
   "source": [
    "Save the model to the disk, then load it and generate text. Examples are available [here](https://pytorch.org/tutorials/beginner/saving_loading_models.html])."
   ]
  },
  {
   "cell_type": "code",
   "execution_count": null,
   "metadata": {},
   "outputs": [],
   "source": [
    "# Saving and loading code here"
   ]
  },
  {
   "cell_type": "markdown",
   "metadata": {},
   "source": [
    "### References\n",
    "1. <a href='http://karpathy.github.io/2015/05/21/rnn-effectiveness/'> Andrew Karpathy blog post about RNN. </a> \n",
    "There are several examples of genration: Shakespeare texts, Latex formulas, Linux Sourse Code and children names.\n",
    "2. <a href='https://github.com/karpathy/char-rnn'> Repo with char-rnn code </a>\n",
    "3. Cool repo with PyTorch examples: [link](https://github.com/spro/practical-pytorch`)"
   ]
  }
 ],
 "metadata": {
  "anaconda-cloud": {},
  "kernelspec": {
   "display_name": "Python 3",
   "language": "python",
   "name": "python3"
  },
  "language_info": {
   "codemirror_mode": {
    "name": "ipython",
    "version": 3
   },
   "file_extension": ".py",
   "mimetype": "text/x-python",
   "name": "python",
   "nbconvert_exporter": "python",
   "pygments_lexer": "ipython3",
   "version": "3.6.7"
  }
 },
 "nbformat": 4,
 "nbformat_minor": 2
}
