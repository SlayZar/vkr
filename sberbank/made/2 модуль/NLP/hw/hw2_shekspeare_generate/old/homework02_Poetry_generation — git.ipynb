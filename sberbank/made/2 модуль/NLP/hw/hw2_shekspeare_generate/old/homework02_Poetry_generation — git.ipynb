{
 "cells": [
  {
   "cell_type": "markdown",
   "metadata": {},
   "source": [
    "## Homework №2"
   ]
  },
  {
   "cell_type": "markdown",
   "metadata": {},
   "source": [
    "### Almost Shakespeare\n",
    "\n",
    "Let's try to generate some Shakespeare poetry using RNNs. The sonnets file is available in the notebook directory.\n",
    "\n",
    "Text generation can be designed in several steps:\n",
    "    \n",
    "1. Data loading.\n",
    "2. Dictionary generation.\n",
    "3. Data preprocessing.\n",
    "4. Model (neural network) training.\n",
    "5. Text generation (model evaluation).\n"
   ]
  },
  {
   "cell_type": "markdown",
   "metadata": {},
   "source": [
    "### Data loading"
   ]
  },
  {
   "cell_type": "markdown",
   "metadata": {},
   "source": [
    "Shakespeare sonnets are awailable at this [link](http://www.gutenberg.org/ebooks/1041?msg=welcome_stranger). In addition, they are stored in the same directory as this notebook (`sonnetes.txt`).\n",
    "\n",
    "Simple preprocessing is already done for you in the next cell: all technical info is dropped."
   ]
  },
  {
   "cell_type": "code",
   "execution_count": 1,
   "metadata": {},
   "outputs": [],
   "source": [
    "from IPython.display import clear_output\n",
    "from random import sample\n",
    "import string\n",
    "import numpy as np\n",
    "import torch, torch.nn as nn\n",
    "import torch.nn.functional as F\n",
    "import matplotlib.pyplot as plt\n",
    "%matplotlib inline"
   ]
  },
  {
   "cell_type": "code",
   "execution_count": 2,
   "metadata": {},
   "outputs": [],
   "source": [
    "try:\n",
    "    with open('../../datasets/Shakespeare_sonnets/sonnets.txt', 'r') as iofile:\n",
    "        text = iofile.readlines()\n",
    "except FileNotFoundError:\n",
    "    !wget https://raw.githubusercontent.com/neychev/made_nlp_course/master/datasets/Shakespeare_sonnets/sonnets.txt -nc\n",
    "    with open('sonnets.txt', 'r') as iofile:\n",
    "        texts = iofile.readlines()"
   ]
  },
  {
   "cell_type": "code",
   "execution_count": 3,
   "metadata": {},
   "outputs": [],
   "source": [
    "TEXT_START = 45\n",
    "TEXT_END = -368\n",
    "texts = text[TEXT_START : TEXT_END]\n",
    "assert len(texts) == 2616"
   ]
  },
  {
   "cell_type": "markdown",
   "metadata": {},
   "source": [
    "In opposite to the in-class practice, this time we want to predict complex text. Let's reduce the complexity of the task and lowercase all the symbols.\n",
    "\n",
    "Now variable `text` is a list of strings. Join all the strings into one and lowercase it."
   ]
  },
  {
   "cell_type": "code",
   "execution_count": 4,
   "metadata": {},
   "outputs": [
    {
     "name": "stdout",
     "output_type": "stream",
     "text": [
      "OK!\n"
     ]
    }
   ],
   "source": [
    "# Join all the strings into one and lowercase it\n",
    "# Put result into variable text.\n",
    "\n",
    "texts = [text.lower() for text in texts]\n",
    "text =  ''.join(texts)\n",
    "\n",
    "assert len(text) == 100225, 'Are you sure you have concatenated all the strings?'\n",
    "assert not any([x in set(text) for x in string.ascii_uppercase]), 'Uppercase letters are present'\n",
    "print('OK!')"
   ]
  },
  {
   "cell_type": "markdown",
   "metadata": {},
   "source": [
    "Put all the characters, that you've seen in the text, into variable `tokens`."
   ]
  },
  {
   "cell_type": "code",
   "execution_count": 5,
   "metadata": {},
   "outputs": [],
   "source": [
    "PADDING = '#'"
   ]
  },
  {
   "cell_type": "code",
   "execution_count": 6,
   "metadata": {},
   "outputs": [],
   "source": [
    "tokens = sorted(set(text) | {PADDING})"
   ]
  },
  {
   "cell_type": "markdown",
   "metadata": {},
   "source": [
    "Create dictionary `token_to_idx = {<char>: <index>}` and dictionary `idx_to_token = {<index>: <char>}`"
   ]
  },
  {
   "cell_type": "code",
   "execution_count": 7,
   "metadata": {},
   "outputs": [],
   "source": [
    "# dict <index>:<char>\n",
    "# Your great code here\n",
    "token_to_id = {\n",
    "    token: idx for idx, token in enumerate(tokens)\n",
    "}\n",
    "# dict <char>:<index>\n",
    "# Your great code here\n",
    "idx_to_token = {token_to_id[char]: char for char in token_to_id}"
   ]
  },
  {
   "cell_type": "markdown",
   "metadata": {},
   "source": [
    "*Comment: in this task we have only 38 different tokens, so let's use one-hot encoding.*"
   ]
  },
  {
   "cell_type": "code",
   "execution_count": 8,
   "metadata": {},
   "outputs": [
    {
     "data": {
      "text/plain": [
       "39"
      ]
     },
     "execution_count": 8,
     "metadata": {},
     "output_type": "execute_result"
    }
   ],
   "source": [
    "num_tokens = len(tokens)\n",
    "num_tokens"
   ]
  },
  {
   "cell_type": "code",
   "execution_count": 9,
   "metadata": {},
   "outputs": [],
   "source": [
    "texts = [text.rstrip().lstrip() for text in texts]"
   ]
  },
  {
   "cell_type": "code",
   "execution_count": 10,
   "metadata": {},
   "outputs": [
    {
     "name": "stdout",
     "output_type": "stream",
     "text": [
      "max length = 60\n"
     ]
    },
    {
     "data": {
      "image/png": "[encoded data removed]",
      "text/plain": [
       "<Figure size 432x288 with 1 Axes>"
      ]
     },
     "metadata": {
      "needs_background": "light"
     },
     "output_type": "display_data"
    }
   ],
   "source": [
    "MAX_LENGTH = max(map(len, texts))\n",
    "print(\"max length =\", MAX_LENGTH)\n",
    "\n",
    "plt.title('Sequence length distribution')\n",
    "plt.hist(list(map(len, texts)),bins=25);"
   ]
  },
  {
   "cell_type": "code",
   "execution_count": 11,
   "metadata": {},
   "outputs": [],
   "source": [
    "texts = list(filter(lambda line: len(line) > 25, texts))"
   ]
  },
  {
   "cell_type": "code",
   "execution_count": 12,
   "metadata": {},
   "outputs": [
    {
     "data": {
      "text/plain": [
       "['from fairest creatures we desire increase,',\n",
       " 'nor thou with public kindness honour me,',\n",
       " 'and hang more praise upon deceased i',\n",
       " \"which hath not figur'd to thee my true spirit?\",\n",
       " 'if thou turn back and my loud crying still.']"
      ]
     },
     "execution_count": 12,
     "metadata": {},
     "output_type": "execute_result"
    }
   ],
   "source": [
    "texts[::500]"
   ]
  },
  {
   "cell_type": "markdown",
   "metadata": {},
   "source": [
    "### Building the model"
   ]
  },
  {
   "cell_type": "markdown",
   "metadata": {},
   "source": [
    "Now we want to build and train recurrent neural net which would be able to something similar to Shakespeare's poetry.\n",
    "\n",
    "Let's use vanilla RNN, similar to the one created during the lesson."
   ]
  },
  {
   "cell_type": "code",
   "execution_count": 13,
   "metadata": {},
   "outputs": [],
   "source": [
    "def padding(text):\n",
    "    return text + PADDING * (MAX_LENGTH - len(text))\n",
    "\n",
    "texts = list(map(padding, texts))"
   ]
  },
  {
   "cell_type": "code",
   "execution_count": 14,
   "metadata": {},
   "outputs": [],
   "source": [
    "def to_index(text):\n",
    "    return [token_to_id[ch] for ch in text]\n",
    "\n",
    "encoded = np.array(list(map(to_index, texts)))"
   ]
  },
  {
   "cell_type": "code",
   "execution_count": 15,
   "metadata": {},
   "outputs": [
    {
     "data": {
      "text/plain": [
       "['from fairest creatures we desire increase,##################',\n",
       " 'nor thou with public kindness honour me,####################',\n",
       " 'and hang more praise upon deceased i########################',\n",
       " \"which hath not figur'd to thee my true spirit?##############\",\n",
       " 'if thou turn back and my loud crying still.#################']"
      ]
     },
     "execution_count": 15,
     "metadata": {},
     "output_type": "execute_result"
    }
   ],
   "source": [
    "texts[::500]"
   ]
  },
  {
   "cell_type": "code",
   "execution_count": 16,
   "metadata": {},
   "outputs": [
    {
     "data": {
      "text/plain": [
       "array([[18, 30, 27, ...,  3,  3,  3],\n",
       "       [32, 20, 13, ...,  3,  3,  3],\n",
       "       [14, 33, 32, ...,  3,  3,  3],\n",
       "       ...,\n",
       "       [18, 27, 30, ...,  3,  3,  3],\n",
       "       [15, 13, 25, ...,  3,  3,  3],\n",
       "       [24, 27, 34, ...,  3,  3,  3]])"
      ]
     },
     "execution_count": 16,
     "metadata": {},
     "output_type": "execute_result"
    }
   ],
   "source": [
    "encoded"
   ]
  },
  {
   "cell_type": "code",
   "execution_count": 17,
   "metadata": {},
   "outputs": [],
   "source": [
    "def get_batches(bs):\n",
    "    random_idx = np.random.choice(np.arange(0, encoded.shape[0]), size=bs)\n",
    "    return torch.tensor(encoded[random_idx, :], dtype=int)"
   ]
  },
  {
   "cell_type": "code",
   "execution_count": 18,
   "metadata": {},
   "outputs": [],
   "source": [
    "class VanillaRNN(nn.Module):\n",
    "    def __init__(self, num_embeddings=num_tokens, embedding_dim=16, hidden_state_dim=256):\n",
    "        super().__init__()\n",
    "        self.hidden_state_dim = hidden_state_dim\n",
    "        self.embed = nn.Embedding(num_embeddings, embedding_dim)\n",
    "        self.recur_dense = nn.Linear(hidden_state_dim + embedding_dim, hidden_state_dim)\n",
    "        self.to_logits = nn.Linear(hidden_state_dim, num_embeddings)\n",
    "    \n",
    "    def forward(self, x, hidden_state):\n",
    "        x = self.embed(x)\n",
    "        next_hidden = torch.tanh(self.recur_dense(torch.cat((hidden_state, x), dim=1)))\n",
    "        logits = self.to_logits(next_hidden)\n",
    "        return next_hidden, logits\n",
    "    \n",
    "    def initial_state(self, batch_size):\n",
    "        return torch.zeros((batch_size, self.hidden_state_dim), \n",
    "                           dtype=torch.float32, requires_grad=True)"
   ]
  },
  {
   "cell_type": "code",
   "execution_count": 19,
   "metadata": {},
   "outputs": [],
   "source": [
    "def RNNLoop(rnn, batch, num_tokens=num_tokens):\n",
    "    hidden_state = rnn.initial_state(batch.shape[0])\n",
    "    full_logits = torch.zeros((batch.shape[0], batch.shape[1]-1, num_tokens), dtype=torch.float32)\n",
    "    for i in range(batch.shape[1]-1):\n",
    "        hidden_state, logits = rnn(batch.transpose(1, 0)[i], hidden_state)\n",
    "        full_logits[:, i, :] = logits\n",
    "    return full_logits"
   ]
  },
  {
   "cell_type": "code",
   "execution_count": 20,
   "metadata": {},
   "outputs": [],
   "source": [
    "bs = 256\n",
    "LR = 0.001\n",
    "rnn = VanillaRNN()\n",
    "optimizer = torch.optim.Adam(rnn.parameters(), lr=LR)\n",
    "criterion = nn.CrossEntropyLoss()"
   ]
  },
  {
   "cell_type": "code",
   "execution_count": 21,
   "metadata": {},
   "outputs": [
    {
     "name": "stdout",
     "output_type": "stream",
     "text": [
      "Best loss = 0.3145500421524048\n"
     ]
    },
    {
     "data": {
      "image/png": "[encoded data removed]",
      "text/plain": [
       "<Figure size 432x288 with 1 Axes>"
      ]
     },
     "metadata": {
      "needs_background": "light"
     },
     "output_type": "display_data"
    },
    {
     "name": "stdout",
     "output_type": "stream",
     "text": [
      "RNN Loss = 0.3472556173801422\n",
      "Wall time: 1h 10min 2s\n"
     ]
    }
   ],
   "source": [
    "%%time\n",
    "num_epoch = 1000\n",
    "per_epoch = int(np.ceil(encoded.shape[0] / bs))\n",
    "\n",
    "best_loss = np.inf\n",
    "loss_history = []\n",
    "losses = []\n",
    "for epoch in range(num_epoch):\n",
    "    for i in range(per_epoch):\n",
    "        batch = get_batches(bs)\n",
    "        RNN_model = RNNLoop(rnn, batch).reshape((-1, num_tokens))\n",
    "        true_classes = batch[:, 1:].reshape(-1)\n",
    "        loss = criterion(RNN_model, true_classes)\n",
    "        loss_history.append(loss.item())\n",
    "        loss.backward()\n",
    "        nn.utils.clip_grad_norm_(rnn.parameters(), max_norm=10)\n",
    "        optimizer.step()\n",
    "        optimizer.zero_grad()\n",
    "    \n",
    "    if loss.item() < best_loss:\n",
    "        best_loss = loss.item()\n",
    "        torch.save(rnn, 'checkpoint_pt/model-rnn')\n",
    "       \n",
    "    losses.append(loss.item())\n",
    "    clear_output(True)\n",
    "    print(f'Best loss = {best_loss}')\n",
    "    plt.plot(loss_history)\n",
    "    plt.grid()\n",
    "    plt.title(\"Loss\")\n",
    "    plt.show()\n",
    "    \n",
    "print(f'RNN Loss = {losses[-1]}')"
   ]
  },
  {
   "cell_type": "markdown",
   "metadata": {},
   "source": [
    "Plot the loss function (axis X: number of epochs, axis Y: loss function)."
   ]
  },
  {
   "cell_type": "code",
   "execution_count": 22,
   "metadata": {},
   "outputs": [
    {
     "name": "stdout",
     "output_type": "stream",
     "text": [
      "Min loss = 0.31455 at 977 epoch\n"
     ]
    },
    {
     "data": {
      "image/png": "[encoded data removed]",
      "text/plain": [
       "<Figure size 576x432 with 1 Axes>"
      ]
     },
     "metadata": {
      "needs_background": "light"
     },
     "output_type": "display_data"
    }
   ],
   "source": [
    "plt.figure(figsize=(8,6))\n",
    "plt.plot(np.arange(len(losses))+1, losses)\n",
    "plt.plot(np.argmin(losses)+1, np.min(losses), 'ro')\n",
    "plt.xlabel('Epoch')\n",
    "plt.title(\"Loss\")\n",
    "plt.grid()\n",
    "print(f'Min loss = {np.min(losses):.6} at {np.argmin(losses)+1} epoch')"
   ]
  },
  {
   "cell_type": "code",
   "execution_count": 99,
   "metadata": {},
   "outputs": [],
   "source": [
    "def generate_sample(char_rnn, max_length=MAX_LENGTH, seed_phrase=' ', temperature=1):\n",
    "    char_rnn.eval()\n",
    "    phrase = seed_phrase\n",
    "    try:\n",
    "        hidden_state = char_rnn.initial_state(1)\n",
    "        x_sequence = [token_to_id[token] for token in seed_phrase]\n",
    "        type_mod = 1\n",
    "    except:\n",
    "        hidden_state = None\n",
    "        x_sequence = [[token_to_id[token]] for token in seed_phrase]\n",
    "        type_mod = -1\n",
    "    \n",
    "    x_sequence = torch.tensor([x_sequence], dtype=torch.int64).transpose(1, 0)\n",
    "    \n",
    "    with torch.no_grad():\n",
    "        for char in x_sequence:\n",
    "            hidden_state, logits = char_rnn(char, hidden_state)\n",
    "        \n",
    "        for _ in range(max_length - len(seed_phrase)):\n",
    "            probs = nn.Softmax(dim=type_mod)(logits / temperature).numpy().flatten()\n",
    "            next_token_idx = np.random.choice(np.arange(num_tokens), p=probs)\n",
    "            phrase += idx_to_token[next_token_idx]\n",
    "            if type_mod == 1:\n",
    "                token_tensor = torch.tensor([next_token_idx], dtype=torch.int64)\n",
    "            elif type_mod == -1:\n",
    "                token_tensor = torch.tensor([[next_token_idx]], dtype=torch.int64)\n",
    "            hidden_state, logits = char_rnn(token_tensor, hidden_state)   \n",
    "    return phrase"
   ]
  },
  {
   "cell_type": "code",
   "execution_count": 40,
   "metadata": {},
   "outputs": [
    {
     "name": "stdout",
     "output_type": "stream",
     "text": [
      "how can i then my love sweeriting thine in me;\n",
      "how to divide, and to compoundance thue time wonds,\n",
      "how many redouse to sint andents\n",
      "how can i then return in their eye,\n"
     ]
    }
   ],
   "source": [
    "# An example of generated text.\n",
    "# print(generate_text(length=500, temperature=0.2))\n",
    "\n",
    "for i in range(4):\n",
    "    print(generate_sample(rnn, temperature=0.5, seed_phrase='how ').strip(PADDING).strip('\\n '))"
   ]
  },
  {
   "cell_type": "markdown",
   "metadata": {},
   "source": [
    "### More poetic model\n",
    "\n",
    "Let's use LSTM instead of vanilla RNN and compare the results."
   ]
  },
  {
   "cell_type": "markdown",
   "metadata": {},
   "source": [
    "Plot the loss function of the number of epochs. Does the final loss become better?"
   ]
  },
  {
   "cell_type": "code",
   "execution_count": 61,
   "metadata": {},
   "outputs": [],
   "source": [
    "class LSTM(nn.Module):\n",
    "    def __init__(self, num_embeddings=num_tokens, embedding_dim=16, hidden_state_dim=128):\n",
    "        super().__init__()\n",
    "        self.embed = nn.Embedding(num_embeddings, embedding_dim)\n",
    "        self.recur_dense = nn.LSTM(embedding_dim, hidden_state_dim, batch_first=True)\n",
    "        self.to_logits = nn.Linear(hidden_state_dim, num_embeddings)\n",
    "        \n",
    "    def forward(self, x, hidden_state=None):\n",
    "        out_hidden, state = self.recur_dense(self.embed(x), hidden_state)\n",
    "        logits = self.to_logits(out_hidden)\n",
    "        return state, logits"
   ]
  },
  {
   "cell_type": "code",
   "execution_count": 62,
   "metadata": {},
   "outputs": [],
   "source": [
    "lstm = LSTM()\n",
    "optimizer = torch.optim.Adam(lstm.parameters(), lr=LR)\n",
    "criterion = nn.CrossEntropyLoss()"
   ]
  },
  {
   "cell_type": "code",
   "execution_count": 63,
   "metadata": {},
   "outputs": [
    {
     "name": "stdout",
     "output_type": "stream",
     "text": [
      "Best loss = 0.5157487392425537\n"
     ]
    },
    {
     "data": {
      "image/png": "[encoded data removed]",
      "text/plain": [
       "<Figure size 432x288 with 1 Axes>"
      ]
     },
     "metadata": {
      "needs_background": "light"
     },
     "output_type": "display_data"
    },
    {
     "name": "stdout",
     "output_type": "stream",
     "text": [
      "LSTM Loss = 0.5257980823516846\n",
      "Wall time: 1h 41min 20s\n"
     ]
    }
   ],
   "source": [
    "%%time\n",
    "num_epoch = 1000\n",
    "per_epoch = int(np.ceil(encoded.shape[0] / bs))\n",
    "\n",
    "best_loss = np.inf\n",
    "loss_history = []\n",
    "losses = []\n",
    "for epoch in range(num_epoch):\n",
    "    for i in range(per_epoch):\n",
    "        batch = get_batches(bs)\n",
    "        LSTM_model = lstm(batch)[1][:, :-1].reshape((-1, num_tokens))\n",
    "        true_classes = batch[:, 1:].reshape(-1)\n",
    "        loss = criterion(LSTM_model, true_classes)\n",
    "        loss_history.append(loss.item())\n",
    "        loss.backward()\n",
    "        nn.utils.clip_grad_norm_(lstm.parameters(), max_norm=10)\n",
    "        optimizer.step()\n",
    "        optimizer.zero_grad()\n",
    "    \n",
    "    if loss.item() < best_loss:\n",
    "        best_loss = loss.item()\n",
    "        torch.save(lstm, 'checkpoint_pt/model-lstm')\n",
    "        \n",
    "    losses.append(loss.item())\n",
    "    clear_output(True)\n",
    "    print(f'Best loss = {best_loss}')\n",
    "    plt.plot(loss_history)\n",
    "    plt.grid()\n",
    "    plt.title(\"Loss\")\n",
    "    plt.show()\n",
    "    \n",
    "print(f'LSTM Loss = {losses[-1]}')"
   ]
  },
  {
   "cell_type": "code",
   "execution_count": 64,
   "metadata": {},
   "outputs": [
    {
     "name": "stdout",
     "output_type": "stream",
     "text": [
      "Min loss = 0.515749 at 973 epoch\n"
     ]
    },
    {
     "data": {
      "image/png": "[encoded data removed]",
      "text/plain": [
       "<Figure size 576x432 with 1 Axes>"
      ]
     },
     "metadata": {
      "needs_background": "light"
     },
     "output_type": "display_data"
    }
   ],
   "source": [
    "plt.figure(figsize=(8,6))\n",
    "plt.plot(np.arange(len(losses))+1, losses)\n",
    "plt.plot(np.argmin(losses)+1, np.min(losses), 'ro')\n",
    "plt.xlabel('Epoch')\n",
    "plt.title(\"LSTM\")\n",
    "plt.ylabel(\"Loss\")\n",
    "plt.grid()\n",
    "print(f'Min loss = {np.min(losses):.6} at {np.argmin(losses)+1} epoch')"
   ]
  },
  {
   "cell_type": "markdown",
   "metadata": {},
   "source": [
    "Generate text using the trained net with different `temperature` parameter: `[0.1, 0.2, 0.5, 1.0, 2.0]`.\n",
    "\n",
    "Evaluate the results visually, try to interpret them."
   ]
  },
  {
   "cell_type": "code",
   "execution_count": 105,
   "metadata": {},
   "outputs": [
    {
     "name": "stdout",
     "output_type": "stream",
     "text": [
      "\n",
      "Temperature: 0.1\n",
      "is it not singlers restre at in men's\n",
      "is it not singlers restre at in my sight?\n",
      "is it not singlers restre at in men's\n",
      "is it not singlers restre and hearts trimes,\n",
      "\n",
      "Temperature: 0.2\n",
      "is it not singlers restre at in men's\n",
      "is it not singlers my love thee i in tell\n",
      "is it not singlers restre and hearts trimes,\n",
      "is it not sick all died in show man of men.\n",
      "\n",
      "Temperature: 0.5\n",
      "is it not so thou art she that hid do sige.\n",
      "is it not singlers resty repensign's eye,\n",
      "is it not so thinks, them and in my jovent\n",
      "is it not sick all one doth straight travel'd\n",
      "\n",
      "Temperature: 1\n",
      "is it naturer atumence musied bad:\n",
      "is it be blose grace thou deat love was eye'\n",
      "is it not might whereity to ryslaness steel.\n",
      "is it not time's fiful and weil hold day,\n",
      "\n",
      "Temperature: 2\n",
      "is it ouw-sead aund and as rudou nughte\n",
      "is it unure, bir with my rememper.\n",
      "is it our oury hipel created mine hann:\n",
      "is it butble alsame ad;# timer rimon.\n"
     ]
    }
   ],
   "source": [
    "# Text generation with different temperature values here\n",
    "temperature = [0.1, 0.2, 0.5, 1, 2]\n",
    "\n",
    "for temp in temperature:\n",
    "    print(f'\\nTemperature: {temp}')\n",
    "    for i in range(4):\n",
    "        print(generate_sample(lstm, temperature=temp, seed_phrase='is it ').strip('#\\n '))"
   ]
  },
  {
   "cell_type": "markdown",
   "metadata": {},
   "source": [
    "Увеличение температуры увеличивает разнообразность генерации. Генерация становится менее детерминированной."
   ]
  },
  {
   "cell_type": "markdown",
   "metadata": {},
   "source": [
    "### Saving and loading models"
   ]
  },
  {
   "cell_type": "markdown",
   "metadata": {},
   "source": [
    "Save the model to the disk, then load it and generate text. Examples are available [here](https://pytorch.org/tutorials/beginner/saving_loading_models.html])."
   ]
  },
  {
   "cell_type": "code",
   "execution_count": 118,
   "metadata": {},
   "outputs": [
    {
     "name": "stdout",
     "output_type": "stream",
     "text": [
      "we are bevelf, as a betters are;:;\n",
      "we are begies: thy slave you lovtune, bengon: h,# while eas-\n",
      "we are frief, that love ever-sounl away,\n",
      "we are belond borned\n"
     ]
    }
   ],
   "source": [
    "# Saving and loading code here\n",
    "path = 'checkpoint_pt/model-rnn'\n",
    "rnn_model = torch.load(path)\n",
    "\n",
    "for i in range(4):\n",
    "    print(generate_sample(rnn_model, temperature=temp, seed_phrase='we are').strip('#\\n '))"
   ]
  },
  {
   "cell_type": "code",
   "execution_count": 119,
   "metadata": {},
   "outputs": [
    {
     "name": "stdout",
     "output_type": "stream",
     "text": [
      "we are poresp chert my live happs my passeched\n",
      "we are thou cond in perpscane estain?\n",
      "we are thine eye, wil, newing norivicafty had, thry,\n",
      "we are howb what wasto on ageving fhoov;\n"
     ]
    }
   ],
   "source": [
    "# Saving and loading code here\n",
    "path = 'checkpoint_pt/model-lstm'\n",
    "lstm_model = torch.load(path)\n",
    "\n",
    "for i in range(4):\n",
    "    print(generate_sample(lstm_model, temperature=temp, seed_phrase='we are ').strip('#\\n '))"
   ]
  },
  {
   "cell_type": "markdown",
   "metadata": {},
   "source": [
    "### References\n",
    "1. <a href='http://karpathy.github.io/2015/05/21/rnn-effectiveness/'> Andrew Karpathy blog post about RNN. </a> \n",
    "There are several examples of genration: Shakespeare texts, Latex formulas, Linux Sourse Code and children names.\n",
    "2. <a href='https://github.com/karpathy/char-rnn'> Repo with char-rnn code </a>\n",
    "3. Cool repo with PyTorch examples: [link](https://github.com/spro/practical-pytorch`)"
   ]
  }
 ],
 "metadata": {
  "anaconda-cloud": {},
  "kernelspec": {
   "display_name": "Python 3",
   "language": "python",
   "name": "python3"
  },
  "language_info": {
   "codemirror_mode": {
    "name": "ipython",
    "version": 3
   },
   "file_extension": ".py",
   "mimetype": "text/x-python",
   "name": "python",
   "nbconvert_exporter": "python",
   "pygments_lexer": "ipython3",
   "version": "3.6.7"
  }
 },
 "nbformat": 4,
 "nbformat_minor": 2
}
